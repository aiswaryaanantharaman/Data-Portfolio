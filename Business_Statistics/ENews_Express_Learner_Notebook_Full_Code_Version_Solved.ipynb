{
 "cells": [
  {
   "cell_type": "markdown",
   "id": "6yDxo9u0d9Na",
   "metadata": {
    "id": "6yDxo9u0d9Na"
   },
   "source": [
    "# Project Business Statistics: E-news Express\n",
    "\n",
    "**Marks: 60**"
   ]
  },
  {
   "cell_type": "markdown",
   "id": "SrLd-ICEmPSD",
   "metadata": {
    "id": "SrLd-ICEmPSD"
   },
   "source": [
    "## Define Problem Statement and Objectives"
   ]
  },
  {
   "cell_type": "markdown",
   "id": "9Vt1PLLqmXNn",
   "metadata": {
    "id": "9Vt1PLLqmXNn"
   },
   "source": [
    "### Business Context\n",
    "The advent of e-news, or electronic news, portals has offered us a great opportunity to quickly get updates on the day-to-day events occurring globally. The information on these portals is retrieved electronically from online databases, processed using a variety of software, and then transmitted to the users. There are multiple advantages of transmitting new electronically, like faster access to the content and the ability to utilize different technologies such as audio, graphics, video, and other interactive elements that are either not being used or aren’t common yet in traditional newspapers.\n",
    "\n",
    "E-news Express, an online news portal, aims to expand its business by acquiring new subscribers. With every visitor to the website taking certain actions based on their interest, the company plans to analyze these actions to understand user interests and determine how to drive better engagement. The executives at E-news Express are of the opinion that there has been a decline in new monthly subscribers compared to the past year because the current webpage is not designed well enough in terms of the outline & recommended content to keep customers engaged long enough to make a decision to subscribe.\n",
    "\n",
    "[Companies often analyze user responses to two variants of a product to decide which of the two variants is more effective. This experimental technique, known as A/B testing, is used to determine whether a new feature attracts users based on a chosen metric.]\n",
    "\n",
    "\n",
    "### Objective\n",
    "The design team of the company has researched and created a new landing page that has a new outline & more relevant content shown compared to the old page. In order to test the effectiveness of the new landing page in gathering new subscribers, the Data Science team conducted an experiment by randomly selecting 100 users and dividing them equally into two groups. The existing landing page was served to the first group (control group) and the new landing page to the second group (treatment group). Data regarding the interaction of users in both groups with the two versions of the landing page was collected. Being a data scientist in E-news Express, you have been asked to explore the data and perform a statistical analysis (at a significance level of 5%) to determine the effectiveness of the new landing page in gathering new subscribers for the news portal by answering the following questions:\n",
    "\n",
    "1. Do the users spend more time on the new landing page than on the existing landing page?\n",
    "2. Is the conversion rate (the proportion of users who visit the landing page and get converted) for the new page greater than the conversion rate for the old page?\n",
    "3. Does the converted status depend on the preferred language?\n",
    "4. Is the time spent on the new page the same for the different language users?\n",
    " \n",
    "\n",
    "### Data Dictionary\n",
    "The data contains information regarding the interaction of users in both groups with the two versions of the landing page.\n",
    "\n",
    "user_id - Unique user ID of the person visiting the website\n",
    "\n",
    "group - Whether the user belongs to the first group (control) or the second group (treatment)\n",
    "\n",
    "landing_page - Whether the landing page is new or old\n",
    "\n",
    "time_spent_on_the_page - Time (in minutes) spent by the user on the landing page\n",
    "\n",
    "converted - Whether the user gets converted to a subscriber of the news portal or not\n",
    "\n",
    "language_preferred - Language chosen by the user to view the landing page"
   ]
  },
  {
   "cell_type": "markdown",
   "id": "a6a3d218",
   "metadata": {
    "id": "a6a3d218"
   },
   "source": [
    "## Import all the necessary libraries"
   ]
  },
  {
   "cell_type": "code",
   "execution_count": 1,
   "id": "658c5dec",
   "metadata": {
    "id": "658c5dec"
   },
   "outputs": [],
   "source": [
    "import numpy as np #library used for working with arrays\n",
    "import pandas as pd #library used for data manipulation and analysis\n",
    "import matplotlib.pyplot as plt #library for plots and visualization\n",
    "import seaborn as sns #library for visualization\n",
    "%matplotlib inline \n",
    "\n",
    "import scipy.stats as stats #library for probability distributions and statistical functions."
   ]
  },
  {
   "cell_type": "markdown",
   "id": "6970dd99",
   "metadata": {
    "id": "6970dd99"
   },
   "source": [
    "## Reading the Data into a DataFrame"
   ]
  },
  {
   "cell_type": "markdown",
   "id": "fmD21irU4YO8",
   "metadata": {
    "id": "fmD21irU4YO8"
   },
   "source": [
    "We read the csv file and create a copy of the original dataframe. This will be our working copy. "
   ]
  },
  {
   "cell_type": "code",
   "execution_count": 2,
   "id": "oPIt5qMb3Url",
   "metadata": {
    "colab": {
     "base_uri": "https://localhost:8080/"
    },
    "id": "oPIt5qMb3Url",
    "outputId": "3c4b56b5-4340-4f12-9ede-addd9a8d0674"
   },
   "outputs": [
    {
     "name": "stdout",
     "output_type": "stream",
     "text": [
      "Drive already mounted at /content/drive; to attempt to forcibly remount, call drive.mount(\"/content/drive\", force_remount=True).\n"
     ]
    }
   ],
   "source": [
    "from google.colab import drive\n",
    "drive.mount('/content/drive')"
   ]
  },
  {
   "cell_type": "code",
   "execution_count": 3,
   "id": "d3b95640",
   "metadata": {
    "id": "d3b95640"
   },
   "outputs": [],
   "source": [
    "data = pd.read_csv('/content/drive/My Drive/PGDSBA/abtest.csv')\n",
    "df = data.copy()"
   ]
  },
  {
   "cell_type": "markdown",
   "id": "9d75cfa2",
   "metadata": {
    "id": "9d75cfa2"
   },
   "source": [
    "## Explore the dataset and extract insights using Exploratory Data Analysis"
   ]
  },
  {
   "cell_type": "markdown",
   "id": "27201534",
   "metadata": {
    "id": "27201534"
   },
   "source": [
    "- Data Overview\n",
    "  - Viewing the first and last few rows of the dataset\n",
    "  - Checking the shape of the dataset\n",
    "  - Getting the statistical summary for the variables\n",
    "- Check for missing values\n",
    "- Check for duplicates"
   ]
  },
  {
   "cell_type": "code",
   "execution_count": 4,
   "id": "ithALC-v4C6y",
   "metadata": {
    "colab": {
     "base_uri": "https://localhost:8080/",
     "height": 206
    },
    "id": "ithALC-v4C6y",
    "outputId": "efb524a0-55b2-498e-c134-84a0c5be0d5d"
   },
   "outputs": [
    {
     "data": {
      "text/html": [
       "\n",
       "  <div id=\"df-ac4de8f0-009a-467d-8872-4db84c912a4c\">\n",
       "    <div class=\"colab-df-container\">\n",
       "      <div>\n",
       "<style scoped>\n",
       "    .dataframe tbody tr th:only-of-type {\n",
       "        vertical-align: middle;\n",
       "    }\n",
       "\n",
       "    .dataframe tbody tr th {\n",
       "        vertical-align: top;\n",
       "    }\n",
       "\n",
       "    .dataframe thead th {\n",
       "        text-align: right;\n",
       "    }\n",
       "</style>\n",
       "<table border=\"1\" class=\"dataframe\">\n",
       "  <thead>\n",
       "    <tr style=\"text-align: right;\">\n",
       "      <th></th>\n",
       "      <th>user_id</th>\n",
       "      <th>group</th>\n",
       "      <th>landing_page</th>\n",
       "      <th>time_spent_on_the_page</th>\n",
       "      <th>converted</th>\n",
       "      <th>language_preferred</th>\n",
       "    </tr>\n",
       "  </thead>\n",
       "  <tbody>\n",
       "    <tr>\n",
       "      <th>0</th>\n",
       "      <td>546592</td>\n",
       "      <td>control</td>\n",
       "      <td>old</td>\n",
       "      <td>3.48</td>\n",
       "      <td>no</td>\n",
       "      <td>Spanish</td>\n",
       "    </tr>\n",
       "    <tr>\n",
       "      <th>1</th>\n",
       "      <td>546468</td>\n",
       "      <td>treatment</td>\n",
       "      <td>new</td>\n",
       "      <td>7.13</td>\n",
       "      <td>yes</td>\n",
       "      <td>English</td>\n",
       "    </tr>\n",
       "    <tr>\n",
       "      <th>2</th>\n",
       "      <td>546462</td>\n",
       "      <td>treatment</td>\n",
       "      <td>new</td>\n",
       "      <td>4.40</td>\n",
       "      <td>no</td>\n",
       "      <td>Spanish</td>\n",
       "    </tr>\n",
       "    <tr>\n",
       "      <th>3</th>\n",
       "      <td>546567</td>\n",
       "      <td>control</td>\n",
       "      <td>old</td>\n",
       "      <td>3.02</td>\n",
       "      <td>no</td>\n",
       "      <td>French</td>\n",
       "    </tr>\n",
       "    <tr>\n",
       "      <th>4</th>\n",
       "      <td>546459</td>\n",
       "      <td>treatment</td>\n",
       "      <td>new</td>\n",
       "      <td>4.75</td>\n",
       "      <td>yes</td>\n",
       "      <td>Spanish</td>\n",
       "    </tr>\n",
       "  </tbody>\n",
       "</table>\n",
       "</div>\n",
       "      <button class=\"colab-df-convert\" onclick=\"convertToInteractive('df-ac4de8f0-009a-467d-8872-4db84c912a4c')\"\n",
       "              title=\"Convert this dataframe to an interactive table.\"\n",
       "              style=\"display:none;\">\n",
       "        \n",
       "  <svg xmlns=\"http://www.w3.org/2000/svg\" height=\"24px\"viewBox=\"0 0 24 24\"\n",
       "       width=\"24px\">\n",
       "    <path d=\"M0 0h24v24H0V0z\" fill=\"none\"/>\n",
       "    <path d=\"M18.56 5.44l.94 2.06.94-2.06 2.06-.94-2.06-.94-.94-2.06-.94 2.06-2.06.94zm-11 1L8.5 8.5l.94-2.06 2.06-.94-2.06-.94L8.5 2.5l-.94 2.06-2.06.94zm10 10l.94 2.06.94-2.06 2.06-.94-2.06-.94-.94-2.06-.94 2.06-2.06.94z\"/><path d=\"M17.41 7.96l-1.37-1.37c-.4-.4-.92-.59-1.43-.59-.52 0-1.04.2-1.43.59L10.3 9.45l-7.72 7.72c-.78.78-.78 2.05 0 2.83L4 21.41c.39.39.9.59 1.41.59.51 0 1.02-.2 1.41-.59l7.78-7.78 2.81-2.81c.8-.78.8-2.07 0-2.86zM5.41 20L4 18.59l7.72-7.72 1.47 1.35L5.41 20z\"/>\n",
       "  </svg>\n",
       "      </button>\n",
       "      \n",
       "  <style>\n",
       "    .colab-df-container {\n",
       "      display:flex;\n",
       "      flex-wrap:wrap;\n",
       "      gap: 12px;\n",
       "    }\n",
       "\n",
       "    .colab-df-convert {\n",
       "      background-color: #E8F0FE;\n",
       "      border: none;\n",
       "      border-radius: 50%;\n",
       "      cursor: pointer;\n",
       "      display: none;\n",
       "      fill: #1967D2;\n",
       "      height: 32px;\n",
       "      padding: 0 0 0 0;\n",
       "      width: 32px;\n",
       "    }\n",
       "\n",
       "    .colab-df-convert:hover {\n",
       "      background-color: #E2EBFA;\n",
       "      box-shadow: 0px 1px 2px rgba(60, 64, 67, 0.3), 0px 1px 3px 1px rgba(60, 64, 67, 0.15);\n",
       "      fill: #174EA6;\n",
       "    }\n",
       "\n",
       "    [theme=dark] .colab-df-convert {\n",
       "      background-color: #3B4455;\n",
       "      fill: #D2E3FC;\n",
       "    }\n",
       "\n",
       "    [theme=dark] .colab-df-convert:hover {\n",
       "      background-color: #434B5C;\n",
       "      box-shadow: 0px 1px 3px 1px rgba(0, 0, 0, 0.15);\n",
       "      filter: drop-shadow(0px 1px 2px rgba(0, 0, 0, 0.3));\n",
       "      fill: #FFFFFF;\n",
       "    }\n",
       "  </style>\n",
       "\n",
       "      <script>\n",
       "        const buttonEl =\n",
       "          document.querySelector('#df-ac4de8f0-009a-467d-8872-4db84c912a4c button.colab-df-convert');\n",
       "        buttonEl.style.display =\n",
       "          google.colab.kernel.accessAllowed ? 'block' : 'none';\n",
       "\n",
       "        async function convertToInteractive(key) {\n",
       "          const element = document.querySelector('#df-ac4de8f0-009a-467d-8872-4db84c912a4c');\n",
       "          const dataTable =\n",
       "            await google.colab.kernel.invokeFunction('convertToInteractive',\n",
       "                                                     [key], {});\n",
       "          if (!dataTable) return;\n",
       "\n",
       "          const docLinkHtml = 'Like what you see? Visit the ' +\n",
       "            '<a target=\"_blank\" href=https://colab.research.google.com/notebooks/data_table.ipynb>data table notebook</a>'\n",
       "            + ' to learn more about interactive tables.';\n",
       "          element.innerHTML = '';\n",
       "          dataTable['output_type'] = 'display_data';\n",
       "          await google.colab.output.renderOutput(dataTable, element);\n",
       "          const docLink = document.createElement('div');\n",
       "          docLink.innerHTML = docLinkHtml;\n",
       "          element.appendChild(docLink);\n",
       "        }\n",
       "      </script>\n",
       "    </div>\n",
       "  </div>\n",
       "  "
      ],
      "text/plain": [
       "   user_id      group landing_page  time_spent_on_the_page converted  \\\n",
       "0   546592    control          old                    3.48        no   \n",
       "1   546468  treatment          new                    7.13       yes   \n",
       "2   546462  treatment          new                    4.40        no   \n",
       "3   546567    control          old                    3.02        no   \n",
       "4   546459  treatment          new                    4.75       yes   \n",
       "\n",
       "  language_preferred  \n",
       "0            Spanish  \n",
       "1            English  \n",
       "2            Spanish  \n",
       "3             French  \n",
       "4            Spanish  "
      ]
     },
     "execution_count": 4,
     "metadata": {},
     "output_type": "execute_result"
    }
   ],
   "source": [
    "df.head() #displays first 5 rows of the dataframe"
   ]
  },
  {
   "cell_type": "markdown",
   "id": "cu-vDMRU4qQK",
   "metadata": {
    "id": "cu-vDMRU4qQK"
   },
   "source": [
    "From the df.head(), we see that the dataframe is loaded properly."
   ]
  },
  {
   "cell_type": "code",
   "execution_count": 5,
   "id": "ovnpLwDz7CT1",
   "metadata": {
    "colab": {
     "base_uri": "https://localhost:8080/",
     "height": 206
    },
    "id": "ovnpLwDz7CT1",
    "outputId": "9fbe5c17-9425-4173-cdb1-7a9f25a1cac0"
   },
   "outputs": [
    {
     "data": {
      "text/html": [
       "\n",
       "  <div id=\"df-2ede99b1-1268-4220-844d-8985acfc855a\">\n",
       "    <div class=\"colab-df-container\">\n",
       "      <div>\n",
       "<style scoped>\n",
       "    .dataframe tbody tr th:only-of-type {\n",
       "        vertical-align: middle;\n",
       "    }\n",
       "\n",
       "    .dataframe tbody tr th {\n",
       "        vertical-align: top;\n",
       "    }\n",
       "\n",
       "    .dataframe thead th {\n",
       "        text-align: right;\n",
       "    }\n",
       "</style>\n",
       "<table border=\"1\" class=\"dataframe\">\n",
       "  <thead>\n",
       "    <tr style=\"text-align: right;\">\n",
       "      <th></th>\n",
       "      <th>user_id</th>\n",
       "      <th>group</th>\n",
       "      <th>landing_page</th>\n",
       "      <th>time_spent_on_the_page</th>\n",
       "      <th>converted</th>\n",
       "      <th>language_preferred</th>\n",
       "    </tr>\n",
       "  </thead>\n",
       "  <tbody>\n",
       "    <tr>\n",
       "      <th>95</th>\n",
       "      <td>546446</td>\n",
       "      <td>treatment</td>\n",
       "      <td>new</td>\n",
       "      <td>5.15</td>\n",
       "      <td>no</td>\n",
       "      <td>Spanish</td>\n",
       "    </tr>\n",
       "    <tr>\n",
       "      <th>96</th>\n",
       "      <td>546544</td>\n",
       "      <td>control</td>\n",
       "      <td>old</td>\n",
       "      <td>6.52</td>\n",
       "      <td>yes</td>\n",
       "      <td>English</td>\n",
       "    </tr>\n",
       "    <tr>\n",
       "      <th>97</th>\n",
       "      <td>546472</td>\n",
       "      <td>treatment</td>\n",
       "      <td>new</td>\n",
       "      <td>7.07</td>\n",
       "      <td>yes</td>\n",
       "      <td>Spanish</td>\n",
       "    </tr>\n",
       "    <tr>\n",
       "      <th>98</th>\n",
       "      <td>546481</td>\n",
       "      <td>treatment</td>\n",
       "      <td>new</td>\n",
       "      <td>6.20</td>\n",
       "      <td>yes</td>\n",
       "      <td>Spanish</td>\n",
       "    </tr>\n",
       "    <tr>\n",
       "      <th>99</th>\n",
       "      <td>546483</td>\n",
       "      <td>treatment</td>\n",
       "      <td>new</td>\n",
       "      <td>5.86</td>\n",
       "      <td>yes</td>\n",
       "      <td>English</td>\n",
       "    </tr>\n",
       "  </tbody>\n",
       "</table>\n",
       "</div>\n",
       "      <button class=\"colab-df-convert\" onclick=\"convertToInteractive('df-2ede99b1-1268-4220-844d-8985acfc855a')\"\n",
       "              title=\"Convert this dataframe to an interactive table.\"\n",
       "              style=\"display:none;\">\n",
       "        \n",
       "  <svg xmlns=\"http://www.w3.org/2000/svg\" height=\"24px\"viewBox=\"0 0 24 24\"\n",
       "       width=\"24px\">\n",
       "    <path d=\"M0 0h24v24H0V0z\" fill=\"none\"/>\n",
       "    <path d=\"M18.56 5.44l.94 2.06.94-2.06 2.06-.94-2.06-.94-.94-2.06-.94 2.06-2.06.94zm-11 1L8.5 8.5l.94-2.06 2.06-.94-2.06-.94L8.5 2.5l-.94 2.06-2.06.94zm10 10l.94 2.06.94-2.06 2.06-.94-2.06-.94-.94-2.06-.94 2.06-2.06.94z\"/><path d=\"M17.41 7.96l-1.37-1.37c-.4-.4-.92-.59-1.43-.59-.52 0-1.04.2-1.43.59L10.3 9.45l-7.72 7.72c-.78.78-.78 2.05 0 2.83L4 21.41c.39.39.9.59 1.41.59.51 0 1.02-.2 1.41-.59l7.78-7.78 2.81-2.81c.8-.78.8-2.07 0-2.86zM5.41 20L4 18.59l7.72-7.72 1.47 1.35L5.41 20z\"/>\n",
       "  </svg>\n",
       "      </button>\n",
       "      \n",
       "  <style>\n",
       "    .colab-df-container {\n",
       "      display:flex;\n",
       "      flex-wrap:wrap;\n",
       "      gap: 12px;\n",
       "    }\n",
       "\n",
       "    .colab-df-convert {\n",
       "      background-color: #E8F0FE;\n",
       "      border: none;\n",
       "      border-radius: 50%;\n",
       "      cursor: pointer;\n",
       "      display: none;\n",
       "      fill: #1967D2;\n",
       "      height: 32px;\n",
       "      padding: 0 0 0 0;\n",
       "      width: 32px;\n",
       "    }\n",
       "\n",
       "    .colab-df-convert:hover {\n",
       "      background-color: #E2EBFA;\n",
       "      box-shadow: 0px 1px 2px rgba(60, 64, 67, 0.3), 0px 1px 3px 1px rgba(60, 64, 67, 0.15);\n",
       "      fill: #174EA6;\n",
       "    }\n",
       "\n",
       "    [theme=dark] .colab-df-convert {\n",
       "      background-color: #3B4455;\n",
       "      fill: #D2E3FC;\n",
       "    }\n",
       "\n",
       "    [theme=dark] .colab-df-convert:hover {\n",
       "      background-color: #434B5C;\n",
       "      box-shadow: 0px 1px 3px 1px rgba(0, 0, 0, 0.15);\n",
       "      filter: drop-shadow(0px 1px 2px rgba(0, 0, 0, 0.3));\n",
       "      fill: #FFFFFF;\n",
       "    }\n",
       "  </style>\n",
       "\n",
       "      <script>\n",
       "        const buttonEl =\n",
       "          document.querySelector('#df-2ede99b1-1268-4220-844d-8985acfc855a button.colab-df-convert');\n",
       "        buttonEl.style.display =\n",
       "          google.colab.kernel.accessAllowed ? 'block' : 'none';\n",
       "\n",
       "        async function convertToInteractive(key) {\n",
       "          const element = document.querySelector('#df-2ede99b1-1268-4220-844d-8985acfc855a');\n",
       "          const dataTable =\n",
       "            await google.colab.kernel.invokeFunction('convertToInteractive',\n",
       "                                                     [key], {});\n",
       "          if (!dataTable) return;\n",
       "\n",
       "          const docLinkHtml = 'Like what you see? Visit the ' +\n",
       "            '<a target=\"_blank\" href=https://colab.research.google.com/notebooks/data_table.ipynb>data table notebook</a>'\n",
       "            + ' to learn more about interactive tables.';\n",
       "          element.innerHTML = '';\n",
       "          dataTable['output_type'] = 'display_data';\n",
       "          await google.colab.output.renderOutput(dataTable, element);\n",
       "          const docLink = document.createElement('div');\n",
       "          docLink.innerHTML = docLinkHtml;\n",
       "          element.appendChild(docLink);\n",
       "        }\n",
       "      </script>\n",
       "    </div>\n",
       "  </div>\n",
       "  "
      ],
      "text/plain": [
       "    user_id      group landing_page  time_spent_on_the_page converted  \\\n",
       "95   546446  treatment          new                    5.15        no   \n",
       "96   546544    control          old                    6.52       yes   \n",
       "97   546472  treatment          new                    7.07       yes   \n",
       "98   546481  treatment          new                    6.20       yes   \n",
       "99   546483  treatment          new                    5.86       yes   \n",
       "\n",
       "   language_preferred  \n",
       "95            Spanish  \n",
       "96            English  \n",
       "97            Spanish  \n",
       "98            Spanish  \n",
       "99            English  "
      ]
     },
     "execution_count": 5,
     "metadata": {},
     "output_type": "execute_result"
    }
   ],
   "source": [
    "df.tail() #displays last 5 rows of the dataframe"
   ]
  },
  {
   "cell_type": "code",
   "execution_count": 6,
   "id": "BGQ_8tWE4JzZ",
   "metadata": {
    "colab": {
     "base_uri": "https://localhost:8080/"
    },
    "id": "BGQ_8tWE4JzZ",
    "outputId": "506bf4c2-0b37-4249-842f-4d8665f3b2bb"
   },
   "outputs": [
    {
     "data": {
      "text/plain": [
       "(100, 6)"
      ]
     },
     "execution_count": 6,
     "metadata": {},
     "output_type": "execute_result"
    }
   ],
   "source": [
    "df.shape  #gives the number of rows and columns in the dataframe"
   ]
  },
  {
   "cell_type": "markdown",
   "id": "yDaWDihN41XW",
   "metadata": {
    "id": "yDaWDihN41XW"
   },
   "source": [
    "There are 100 rows and 6 columns in the dataframe."
   ]
  },
  {
   "cell_type": "code",
   "execution_count": 7,
   "id": "ulOSr-yv4U2d",
   "metadata": {
    "colab": {
     "base_uri": "https://localhost:8080/"
    },
    "id": "ulOSr-yv4U2d",
    "outputId": "94d86227-ec8a-4fe4-cf19-f995797820d6"
   },
   "outputs": [
    {
     "name": "stdout",
     "output_type": "stream",
     "text": [
      "<class 'pandas.core.frame.DataFrame'>\n",
      "RangeIndex: 100 entries, 0 to 99\n",
      "Data columns (total 6 columns):\n",
      " #   Column                  Non-Null Count  Dtype  \n",
      "---  ------                  --------------  -----  \n",
      " 0   user_id                 100 non-null    int64  \n",
      " 1   group                   100 non-null    object \n",
      " 2   landing_page            100 non-null    object \n",
      " 3   time_spent_on_the_page  100 non-null    float64\n",
      " 4   converted               100 non-null    object \n",
      " 5   language_preferred      100 non-null    object \n",
      "dtypes: float64(1), int64(1), object(4)\n",
      "memory usage: 4.8+ KB\n"
     ]
    }
   ],
   "source": [
    "df.info() #displays the datatypes of the columns in the dataframe"
   ]
  },
  {
   "cell_type": "markdown",
   "id": "Umomh17z5ScE",
   "metadata": {
    "id": "Umomh17z5ScE"
   },
   "source": [
    "* There are 2 numerical type columns and 4 categorical type columns.\n",
    "* `user_id` is of int64 data type, `time_spent_on_the_page` is of float data type.\n",
    "* `group`, `landing_page`, `converted` and `language_preferred` are of object data type."
   ]
  },
  {
   "cell_type": "code",
   "execution_count": 8,
   "id": "up5kozEq7OyA",
   "metadata": {
    "colab": {
     "base_uri": "https://localhost:8080/",
     "height": 237
    },
    "id": "up5kozEq7OyA",
    "outputId": "b5b1294e-3f3e-47e3-a23e-e1e3729af865"
   },
   "outputs": [
    {
     "data": {
      "text/html": [
       "\n",
       "  <div id=\"df-fb14bf60-f9df-4849-ac20-8da431cc0c46\">\n",
       "    <div class=\"colab-df-container\">\n",
       "      <div>\n",
       "<style scoped>\n",
       "    .dataframe tbody tr th:only-of-type {\n",
       "        vertical-align: middle;\n",
       "    }\n",
       "\n",
       "    .dataframe tbody tr th {\n",
       "        vertical-align: top;\n",
       "    }\n",
       "\n",
       "    .dataframe thead th {\n",
       "        text-align: right;\n",
       "    }\n",
       "</style>\n",
       "<table border=\"1\" class=\"dataframe\">\n",
       "  <thead>\n",
       "    <tr style=\"text-align: right;\">\n",
       "      <th></th>\n",
       "      <th>count</th>\n",
       "      <th>unique</th>\n",
       "      <th>top</th>\n",
       "      <th>freq</th>\n",
       "      <th>mean</th>\n",
       "      <th>std</th>\n",
       "      <th>min</th>\n",
       "      <th>25%</th>\n",
       "      <th>50%</th>\n",
       "      <th>75%</th>\n",
       "      <th>max</th>\n",
       "    </tr>\n",
       "  </thead>\n",
       "  <tbody>\n",
       "    <tr>\n",
       "      <th>user_id</th>\n",
       "      <td>100.0</td>\n",
       "      <td>NaN</td>\n",
       "      <td>NaN</td>\n",
       "      <td>NaN</td>\n",
       "      <td>546517.0</td>\n",
       "      <td>52.295779</td>\n",
       "      <td>546443.0</td>\n",
       "      <td>546467.75</td>\n",
       "      <td>546492.5</td>\n",
       "      <td>546567.25</td>\n",
       "      <td>546592.0</td>\n",
       "    </tr>\n",
       "    <tr>\n",
       "      <th>group</th>\n",
       "      <td>100</td>\n",
       "      <td>2</td>\n",
       "      <td>control</td>\n",
       "      <td>50</td>\n",
       "      <td>NaN</td>\n",
       "      <td>NaN</td>\n",
       "      <td>NaN</td>\n",
       "      <td>NaN</td>\n",
       "      <td>NaN</td>\n",
       "      <td>NaN</td>\n",
       "      <td>NaN</td>\n",
       "    </tr>\n",
       "    <tr>\n",
       "      <th>landing_page</th>\n",
       "      <td>100</td>\n",
       "      <td>2</td>\n",
       "      <td>old</td>\n",
       "      <td>50</td>\n",
       "      <td>NaN</td>\n",
       "      <td>NaN</td>\n",
       "      <td>NaN</td>\n",
       "      <td>NaN</td>\n",
       "      <td>NaN</td>\n",
       "      <td>NaN</td>\n",
       "      <td>NaN</td>\n",
       "    </tr>\n",
       "    <tr>\n",
       "      <th>time_spent_on_the_page</th>\n",
       "      <td>100.0</td>\n",
       "      <td>NaN</td>\n",
       "      <td>NaN</td>\n",
       "      <td>NaN</td>\n",
       "      <td>5.3778</td>\n",
       "      <td>2.378166</td>\n",
       "      <td>0.19</td>\n",
       "      <td>3.88</td>\n",
       "      <td>5.415</td>\n",
       "      <td>7.0225</td>\n",
       "      <td>10.71</td>\n",
       "    </tr>\n",
       "    <tr>\n",
       "      <th>converted</th>\n",
       "      <td>100</td>\n",
       "      <td>2</td>\n",
       "      <td>yes</td>\n",
       "      <td>54</td>\n",
       "      <td>NaN</td>\n",
       "      <td>NaN</td>\n",
       "      <td>NaN</td>\n",
       "      <td>NaN</td>\n",
       "      <td>NaN</td>\n",
       "      <td>NaN</td>\n",
       "      <td>NaN</td>\n",
       "    </tr>\n",
       "    <tr>\n",
       "      <th>language_preferred</th>\n",
       "      <td>100</td>\n",
       "      <td>3</td>\n",
       "      <td>Spanish</td>\n",
       "      <td>34</td>\n",
       "      <td>NaN</td>\n",
       "      <td>NaN</td>\n",
       "      <td>NaN</td>\n",
       "      <td>NaN</td>\n",
       "      <td>NaN</td>\n",
       "      <td>NaN</td>\n",
       "      <td>NaN</td>\n",
       "    </tr>\n",
       "  </tbody>\n",
       "</table>\n",
       "</div>\n",
       "      <button class=\"colab-df-convert\" onclick=\"convertToInteractive('df-fb14bf60-f9df-4849-ac20-8da431cc0c46')\"\n",
       "              title=\"Convert this dataframe to an interactive table.\"\n",
       "              style=\"display:none;\">\n",
       "        \n",
       "  <svg xmlns=\"http://www.w3.org/2000/svg\" height=\"24px\"viewBox=\"0 0 24 24\"\n",
       "       width=\"24px\">\n",
       "    <path d=\"M0 0h24v24H0V0z\" fill=\"none\"/>\n",
       "    <path d=\"M18.56 5.44l.94 2.06.94-2.06 2.06-.94-2.06-.94-.94-2.06-.94 2.06-2.06.94zm-11 1L8.5 8.5l.94-2.06 2.06-.94-2.06-.94L8.5 2.5l-.94 2.06-2.06.94zm10 10l.94 2.06.94-2.06 2.06-.94-2.06-.94-.94-2.06-.94 2.06-2.06.94z\"/><path d=\"M17.41 7.96l-1.37-1.37c-.4-.4-.92-.59-1.43-.59-.52 0-1.04.2-1.43.59L10.3 9.45l-7.72 7.72c-.78.78-.78 2.05 0 2.83L4 21.41c.39.39.9.59 1.41.59.51 0 1.02-.2 1.41-.59l7.78-7.78 2.81-2.81c.8-.78.8-2.07 0-2.86zM5.41 20L4 18.59l7.72-7.72 1.47 1.35L5.41 20z\"/>\n",
       "  </svg>\n",
       "      </button>\n",
       "      \n",
       "  <style>\n",
       "    .colab-df-container {\n",
       "      display:flex;\n",
       "      flex-wrap:wrap;\n",
       "      gap: 12px;\n",
       "    }\n",
       "\n",
       "    .colab-df-convert {\n",
       "      background-color: #E8F0FE;\n",
       "      border: none;\n",
       "      border-radius: 50%;\n",
       "      cursor: pointer;\n",
       "      display: none;\n",
       "      fill: #1967D2;\n",
       "      height: 32px;\n",
       "      padding: 0 0 0 0;\n",
       "      width: 32px;\n",
       "    }\n",
       "\n",
       "    .colab-df-convert:hover {\n",
       "      background-color: #E2EBFA;\n",
       "      box-shadow: 0px 1px 2px rgba(60, 64, 67, 0.3), 0px 1px 3px 1px rgba(60, 64, 67, 0.15);\n",
       "      fill: #174EA6;\n",
       "    }\n",
       "\n",
       "    [theme=dark] .colab-df-convert {\n",
       "      background-color: #3B4455;\n",
       "      fill: #D2E3FC;\n",
       "    }\n",
       "\n",
       "    [theme=dark] .colab-df-convert:hover {\n",
       "      background-color: #434B5C;\n",
       "      box-shadow: 0px 1px 3px 1px rgba(0, 0, 0, 0.15);\n",
       "      filter: drop-shadow(0px 1px 2px rgba(0, 0, 0, 0.3));\n",
       "      fill: #FFFFFF;\n",
       "    }\n",
       "  </style>\n",
       "\n",
       "      <script>\n",
       "        const buttonEl =\n",
       "          document.querySelector('#df-fb14bf60-f9df-4849-ac20-8da431cc0c46 button.colab-df-convert');\n",
       "        buttonEl.style.display =\n",
       "          google.colab.kernel.accessAllowed ? 'block' : 'none';\n",
       "\n",
       "        async function convertToInteractive(key) {\n",
       "          const element = document.querySelector('#df-fb14bf60-f9df-4849-ac20-8da431cc0c46');\n",
       "          const dataTable =\n",
       "            await google.colab.kernel.invokeFunction('convertToInteractive',\n",
       "                                                     [key], {});\n",
       "          if (!dataTable) return;\n",
       "\n",
       "          const docLinkHtml = 'Like what you see? Visit the ' +\n",
       "            '<a target=\"_blank\" href=https://colab.research.google.com/notebooks/data_table.ipynb>data table notebook</a>'\n",
       "            + ' to learn more about interactive tables.';\n",
       "          element.innerHTML = '';\n",
       "          dataTable['output_type'] = 'display_data';\n",
       "          await google.colab.output.renderOutput(dataTable, element);\n",
       "          const docLink = document.createElement('div');\n",
       "          docLink.innerHTML = docLinkHtml;\n",
       "          element.appendChild(docLink);\n",
       "        }\n",
       "      </script>\n",
       "    </div>\n",
       "  </div>\n",
       "  "
      ],
      "text/plain": [
       "                        count unique      top freq      mean        std  \\\n",
       "user_id                 100.0    NaN      NaN  NaN  546517.0  52.295779   \n",
       "group                     100      2  control   50       NaN        NaN   \n",
       "landing_page              100      2      old   50       NaN        NaN   \n",
       "time_spent_on_the_page  100.0    NaN      NaN  NaN    5.3778   2.378166   \n",
       "converted                 100      2      yes   54       NaN        NaN   \n",
       "language_preferred        100      3  Spanish   34       NaN        NaN   \n",
       "\n",
       "                             min        25%       50%        75%       max  \n",
       "user_id                 546443.0  546467.75  546492.5  546567.25  546592.0  \n",
       "group                        NaN        NaN       NaN        NaN       NaN  \n",
       "landing_page                 NaN        NaN       NaN        NaN       NaN  \n",
       "time_spent_on_the_page      0.19       3.88     5.415     7.0225     10.71  \n",
       "converted                    NaN        NaN       NaN        NaN       NaN  \n",
       "language_preferred           NaN        NaN       NaN        NaN       NaN  "
      ]
     },
     "execution_count": 8,
     "metadata": {},
     "output_type": "execute_result"
    }
   ],
   "source": [
    "df.describe(include='all').T"
   ]
  },
  {
   "cell_type": "markdown",
   "id": "9fuCpeBI7YL_",
   "metadata": {
    "id": "9fuCpeBI7YL_"
   },
   "source": [
    "* There are two unique values for `group`.\n",
    "* There are two unique values for `landing_page`.\n",
    "* The average `time_spent_on_the_page` is about 5.38 mins, the minimun being 0.19 mins and the maximum being 10.71 mins.\n",
    "* There are two unique values for `converted`, and 54% people have converted to a subscriber of the news portal.\n",
    "* There are three unique values for `language_preferred`."
   ]
  },
  {
   "cell_type": "code",
   "execution_count": 9,
   "id": "De0CNSgx4NU5",
   "metadata": {
    "colab": {
     "base_uri": "https://localhost:8080/"
    },
    "id": "De0CNSgx4NU5",
    "outputId": "9da36592-5e2b-4d85-bb19-b813657d1545"
   },
   "outputs": [
    {
     "data": {
      "text/plain": [
       "user_id                   0\n",
       "group                     0\n",
       "landing_page              0\n",
       "time_spent_on_the_page    0\n",
       "converted                 0\n",
       "language_preferred        0\n",
       "dtype: int64"
      ]
     },
     "execution_count": 9,
     "metadata": {},
     "output_type": "execute_result"
    }
   ],
   "source": [
    "df.isnull().sum()"
   ]
  },
  {
   "cell_type": "markdown",
   "id": "yxU5wBgE6HDH",
   "metadata": {
    "id": "yxU5wBgE6HDH"
   },
   "source": [
    "There are no missing values in the data."
   ]
  },
  {
   "cell_type": "markdown",
   "id": "CGYOL4nS6RRX",
   "metadata": {
    "id": "CGYOL4nS6RRX"
   },
   "source": [
    "`user_id` should be unique.\n",
    "We check the number of unique values in `user_id` to verify there are no duplicates."
   ]
  },
  {
   "cell_type": "code",
   "execution_count": 10,
   "id": "sRvYx0KJ6K6P",
   "metadata": {
    "colab": {
     "base_uri": "https://localhost:8080/"
    },
    "id": "sRvYx0KJ6K6P",
    "outputId": "b971d66e-84b5-4828-c7f0-b74380dd194a"
   },
   "outputs": [
    {
     "data": {
      "text/plain": [
       "100"
      ]
     },
     "execution_count": 10,
     "metadata": {},
     "output_type": "execute_result"
    }
   ],
   "source": [
    "df['user_id'].nunique()"
   ]
  },
  {
   "cell_type": "markdown",
   "id": "68f3b2c9",
   "metadata": {
    "id": "68f3b2c9"
   },
   "source": [
    "### Univariate Analysis"
   ]
  },
  {
   "cell_type": "markdown",
   "id": "5g2SUTlb8-vR",
   "metadata": {
    "id": "5g2SUTlb8-vR"
   },
   "source": [
    "1. Analysis on the `user_id`"
   ]
  },
  {
   "cell_type": "code",
   "execution_count": 11,
   "id": "1932d0f3",
   "metadata": {
    "colab": {
     "base_uri": "https://localhost:8080/"
    },
    "id": "1932d0f3",
    "outputId": "2658ef6d-2827-4df9-b35f-bbb32cbdc8d1"
   },
   "outputs": [
    {
     "data": {
      "text/plain": [
       "100"
      ]
     },
     "execution_count": 11,
     "metadata": {},
     "output_type": "execute_result"
    }
   ],
   "source": [
    "df['user_id'].nunique() #check that user_ids are unique to avoid duplicates"
   ]
  },
  {
   "cell_type": "markdown",
   "id": "7Bd-jTOP9jhY",
   "metadata": {
    "id": "7Bd-jTOP9jhY"
   },
   "source": [
    "There are 100 unique users."
   ]
  },
  {
   "cell_type": "markdown",
   "id": "3KEoZmQS9SGc",
   "metadata": {
    "id": "3KEoZmQS9SGc"
   },
   "source": [
    "2. Analysis on the `group`"
   ]
  },
  {
   "cell_type": "code",
   "execution_count": 12,
   "id": "p1jqlcS79WKG",
   "metadata": {
    "colab": {
     "base_uri": "https://localhost:8080/"
    },
    "id": "p1jqlcS79WKG",
    "outputId": "0b11e828-6073-4005-ad8a-7f0d187b1900"
   },
   "outputs": [
    {
     "data": {
      "text/plain": [
       "array(['control', 'treatment'], dtype=object)"
      ]
     },
     "execution_count": 12,
     "metadata": {},
     "output_type": "execute_result"
    }
   ],
   "source": [
    "df['group'].unique()"
   ]
  },
  {
   "cell_type": "markdown",
   "id": "INHppEX59p2a",
   "metadata": {
    "id": "INHppEX59p2a"
   },
   "source": [
    "There are two unique values for `group`, viz. control and treatment."
   ]
  },
  {
   "cell_type": "code",
   "execution_count": 13,
   "id": "JGtM12Lf9xy6",
   "metadata": {
    "colab": {
     "base_uri": "https://localhost:8080/",
     "height": 279
    },
    "id": "JGtM12Lf9xy6",
    "outputId": "366c00ad-6659-4974-8fa9-1bca1bdd5751"
   },
   "outputs": [
    {
     "data": {
      "image/png": "[encoded data removed]",
      "text/plain": [
       "<Figure size 432x288 with 1 Axes>"
      ]
     },
     "metadata": {
      "needs_background": "light"
     },
     "output_type": "display_data"
    }
   ],
   "source": [
    "sns.countplot(data=df, x=df['group']);\n",
    "plt.show()"
   ]
  },
  {
   "cell_type": "markdown",
   "id": "zer4dpUz-CQL",
   "metadata": {
    "id": "zer4dpUz-CQL"
   },
   "source": [
    "The 100 randomly selected users are divided equally into two groups, 50 in control group and 50 in treatment group."
   ]
  },
  {
   "cell_type": "markdown",
   "id": "y9ui2msv-NJm",
   "metadata": {
    "id": "y9ui2msv-NJm"
   },
   "source": [
    "3. Analysis on the `landing_page`"
   ]
  },
  {
   "cell_type": "code",
   "execution_count": 14,
   "id": "U45LxZbb-L9i",
   "metadata": {
    "colab": {
     "base_uri": "https://localhost:8080/"
    },
    "id": "U45LxZbb-L9i",
    "outputId": "d49ba520-0ced-43be-ca22-4448a9190c4b"
   },
   "outputs": [
    {
     "data": {
      "text/plain": [
       "array(['old', 'new'], dtype=object)"
      ]
     },
     "execution_count": 14,
     "metadata": {},
     "output_type": "execute_result"
    }
   ],
   "source": [
    "df['landing_page'].unique()"
   ]
  },
  {
   "cell_type": "markdown",
   "id": "7s0zw8R3-Z1P",
   "metadata": {
    "id": "7s0zw8R3-Z1P"
   },
   "source": [
    "There are two unique values for `landing_page`, viz. old and new."
   ]
  },
  {
   "cell_type": "code",
   "execution_count": 15,
   "id": "WksQn503-jk3",
   "metadata": {
    "colab": {
     "base_uri": "https://localhost:8080/",
     "height": 280
    },
    "id": "WksQn503-jk3",
    "outputId": "338191b5-f349-443e-c4b4-2eb6fda1640f"
   },
   "outputs": [
    {
     "data": {
      "image/png": "[encoded data removed]",
      "text/plain": [
       "<Figure size 432x288 with 1 Axes>"
      ]
     },
     "metadata": {
      "needs_background": "light"
     },
     "output_type": "display_data"
    }
   ],
   "source": [
    "sns.countplot(data=df, x=df['landing_page']);\n",
    "plt.show()"
   ]
  },
  {
   "cell_type": "markdown",
   "id": "u26HKd7b-uJs",
   "metadata": {
    "id": "u26HKd7b-uJs"
   },
   "source": [
    "50 people in control group were served the old landing page and the remaining 50 in treatment group were served the new landing page."
   ]
  },
  {
   "cell_type": "markdown",
   "id": "l_wxte4E-_tB",
   "metadata": {
    "id": "l_wxte4E-_tB"
   },
   "source": [
    "4. Analysis on the `time_spent_on_the_page`"
   ]
  },
  {
   "cell_type": "code",
   "execution_count": 16,
   "id": "aZJHBRTZ_Ez7",
   "metadata": {
    "colab": {
     "base_uri": "https://localhost:8080/",
     "height": 280
    },
    "id": "aZJHBRTZ_Ez7",
    "outputId": "7a80513b-2b55-433f-b0f5-2c2876e47c0b"
   },
   "outputs": [
    {
     "data": {
      "image/png": "[encoded data removed]",
      "text/plain": [
       "<Figure size 432x288 with 1 Axes>"
      ]
     },
     "metadata": {
      "needs_background": "light"
     },
     "output_type": "display_data"
    }
   ],
   "source": [
    "sns.histplot(data=df, x=df['time_spent_on_the_page'], kde=True);\n",
    "plt.show()"
   ]
  },
  {
   "cell_type": "code",
   "execution_count": 17,
   "id": "BSHDcwpE_iAi",
   "metadata": {
    "colab": {
     "base_uri": "https://localhost:8080/",
     "height": 280
    },
    "id": "BSHDcwpE_iAi",
    "outputId": "eee3ea97-561f-4bf5-962c-1ac6c8489b30"
   },
   "outputs": [
    {
     "data": {
      "image/png": "[encoded data removed]",
      "text/plain": [
       "<Figure size 432x288 with 1 Axes>"
      ]
     },
     "metadata": {
      "needs_background": "light"
     },
     "output_type": "display_data"
    }
   ],
   "source": [
    "sns.boxplot(data=df, x=df['time_spent_on_the_page']);\n",
    "plt.show()"
   ]
  },
  {
   "cell_type": "markdown",
   "id": "cXIjIlsd_Tcg",
   "metadata": {
    "id": "cXIjIlsd_Tcg"
   },
   "source": [
    "* The boxplot of `time_spent_on_the_page` looks symmetrical.\n",
    "* The distribution of `time_spent_on_the_page` looks similar to normal distribution.\n"
   ]
  },
  {
   "cell_type": "markdown",
   "id": "SnhtSod__3I3",
   "metadata": {
    "id": "SnhtSod__3I3"
   },
   "source": [
    "5. Analysis on `converted`"
   ]
  },
  {
   "cell_type": "code",
   "execution_count": 18,
   "id": "8TaI8Zv3_7fE",
   "metadata": {
    "colab": {
     "base_uri": "https://localhost:8080/"
    },
    "id": "8TaI8Zv3_7fE",
    "outputId": "58f43092-9fdd-4436-be1e-a12f1b90bd6f"
   },
   "outputs": [
    {
     "data": {
      "text/plain": [
       "array(['no', 'yes'], dtype=object)"
      ]
     },
     "execution_count": 18,
     "metadata": {},
     "output_type": "execute_result"
    }
   ],
   "source": [
    "df['converted'].unique()"
   ]
  },
  {
   "cell_type": "markdown",
   "id": "reKpgFBHAFlY",
   "metadata": {
    "id": "reKpgFBHAFlY"
   },
   "source": [
    "There are two unique values for `converted`, viz. yes and no."
   ]
  },
  {
   "cell_type": "code",
   "execution_count": 19,
   "id": "J1YpQytOAXiM",
   "metadata": {
    "colab": {
     "base_uri": "https://localhost:8080/"
    },
    "id": "J1YpQytOAXiM",
    "outputId": "ecce3330-b36a-4aa1-dfec-a8389bc6d714"
   },
   "outputs": [
    {
     "data": {
      "text/plain": [
       "yes    54\n",
       "no     46\n",
       "Name: converted, dtype: int64"
      ]
     },
     "execution_count": 19,
     "metadata": {},
     "output_type": "execute_result"
    }
   ],
   "source": [
    "df['converted'].value_counts()"
   ]
  },
  {
   "cell_type": "code",
   "execution_count": 20,
   "id": "22DOAPnLALV-",
   "metadata": {
    "colab": {
     "base_uri": "https://localhost:8080/",
     "height": 279
    },
    "id": "22DOAPnLALV-",
    "outputId": "3fd0d9f2-7106-4cbe-dee1-60d16ea6fcee"
   },
   "outputs": [
    {
     "data": {
      "image/png": "[encoded data removed]",
      "text/plain": [
       "<Figure size 432x288 with 1 Axes>"
      ]
     },
     "metadata": {
      "needs_background": "light"
     },
     "output_type": "display_data"
    }
   ],
   "source": [
    "sns.countplot(data=df, x=df['converted']);\n",
    "plt.show()"
   ]
  },
  {
   "cell_type": "markdown",
   "id": "VTLjJqYGAUfx",
   "metadata": {
    "id": "VTLjJqYGAUfx"
   },
   "source": [
    "54% users got converted to a subscriber of the news portal."
   ]
  },
  {
   "cell_type": "markdown",
   "id": "MluK8EuaApYD",
   "metadata": {
    "id": "MluK8EuaApYD"
   },
   "source": [
    "6. Analysis on the `language_preferred`"
   ]
  },
  {
   "cell_type": "code",
   "execution_count": 21,
   "id": "vSuGqIV1zE5_",
   "metadata": {
    "colab": {
     "base_uri": "https://localhost:8080/"
    },
    "id": "vSuGqIV1zE5_",
    "outputId": "1610bffa-2337-4c75-af8c-2f3480f112c6"
   },
   "outputs": [
    {
     "data": {
      "text/plain": [
       "array(['Spanish', 'English', 'French'], dtype=object)"
      ]
     },
     "execution_count": 21,
     "metadata": {},
     "output_type": "execute_result"
    }
   ],
   "source": [
    "df['language_preferred'].unique()"
   ]
  },
  {
   "cell_type": "code",
   "execution_count": 22,
   "id": "iq0KCEGBAu40",
   "metadata": {
    "colab": {
     "base_uri": "https://localhost:8080/"
    },
    "id": "iq0KCEGBAu40",
    "outputId": "778c1007-214b-4c68-8e4c-59c4281b100b"
   },
   "outputs": [
    {
     "data": {
      "text/plain": [
       "Spanish    34\n",
       "French     34\n",
       "English    32\n",
       "Name: language_preferred, dtype: int64"
      ]
     },
     "execution_count": 22,
     "metadata": {},
     "output_type": "execute_result"
    }
   ],
   "source": [
    "df['language_preferred'].value_counts()"
   ]
  },
  {
   "cell_type": "code",
   "execution_count": 23,
   "id": "n15Jv3VmBBVR",
   "metadata": {
    "colab": {
     "base_uri": "https://localhost:8080/",
     "height": 280
    },
    "id": "n15Jv3VmBBVR",
    "outputId": "03e95f8d-777b-43ec-8953-66e13bb43c47"
   },
   "outputs": [
    {
     "data": {
      "image/png": "[encoded data removed]",
      "text/plain": [
       "<Figure size 432x288 with 1 Axes>"
      ]
     },
     "metadata": {
      "needs_background": "light"
     },
     "output_type": "display_data"
    }
   ],
   "source": [
    "sns.countplot(data=df, x=df['language_preferred']);\n",
    "plt.show()"
   ]
  },
  {
   "cell_type": "markdown",
   "id": "OB4fxzTfBHWT",
   "metadata": {
    "id": "OB4fxzTfBHWT"
   },
   "source": [
    "* Equal number of users have chosen Spanish and French as the language to view the landing page, 34.\n",
    "* These are followed by English, chosen by 32 users."
   ]
  },
  {
   "cell_type": "markdown",
   "id": "fad2de2f",
   "metadata": {
    "id": "fad2de2f"
   },
   "source": [
    "### Bivariate Analysis"
   ]
  },
  {
   "cell_type": "markdown",
   "id": "LIKMwFxHxkMC",
   "metadata": {
    "id": "LIKMwFxHxkMC"
   },
   "source": [
    "1. Analysing `landing_page` vs `time_spent_on_the_page`"
   ]
  },
  {
   "cell_type": "code",
   "execution_count": 24,
   "id": "58e9a1d0",
   "metadata": {
    "colab": {
     "base_uri": "https://localhost:8080/",
     "height": 280
    },
    "id": "58e9a1d0",
    "outputId": "eb7cffa8-86af-44ab-c6a2-f640f71d3639"
   },
   "outputs": [
    {
     "data": {
      "image/png": "[encoded data removed]",
      "text/plain": [
       "<Figure size 432x288 with 1 Axes>"
      ]
     },
     "metadata": {
      "needs_background": "light"
     },
     "output_type": "display_data"
    }
   ],
   "source": [
    "sns.boxplot(data=df, x='landing_page', y='time_spent_on_the_page');\n",
    "plt.show()"
   ]
  },
  {
   "cell_type": "code",
   "execution_count": 25,
   "id": "hc8Ar-wvz9OE",
   "metadata": {
    "colab": {
     "base_uri": "https://localhost:8080/"
    },
    "id": "hc8Ar-wvz9OE",
    "outputId": "03ebc256-5b34-41bd-a344-fc310fbba82a"
   },
   "outputs": [
    {
     "data": {
      "text/plain": [
       "4.38"
      ]
     },
     "execution_count": 25,
     "metadata": {},
     "output_type": "execute_result"
    }
   ],
   "source": [
    "# time spent on old landing page\n",
    "df[df['landing_page']=='old']['time_spent_on_the_page'].median()"
   ]
  },
  {
   "cell_type": "code",
   "execution_count": 26,
   "id": "XXlHDWEH0J2W",
   "metadata": {
    "colab": {
     "base_uri": "https://localhost:8080/"
    },
    "id": "XXlHDWEH0J2W",
    "outputId": "7eaf6813-e48f-4830-8316-f2979d507f34"
   },
   "outputs": [
    {
     "data": {
      "text/plain": [
       "6.105"
      ]
     },
     "execution_count": 26,
     "metadata": {},
     "output_type": "execute_result"
    }
   ],
   "source": [
    "# time spent on new landing page\n",
    "df[df['landing_page']=='new']['time_spent_on_the_page'].median()"
   ]
  },
  {
   "cell_type": "markdown",
   "id": "I9kefu33yXYK",
   "metadata": {
    "id": "I9kefu33yXYK"
   },
   "source": [
    "* Median value of `time_spent_on_the_page` for the new landing page is greater than that of the old landing page.\n",
    "* The boxplot for `time_spent_on_the_page` for new landing page has outliers.\n"
   ]
  },
  {
   "cell_type": "markdown",
   "id": "Ut8tI_Ak1aFw",
   "metadata": {
    "id": "Ut8tI_Ak1aFw"
   },
   "source": [
    "2. Analysing `landing_page` vs `converted`"
   ]
  },
  {
   "cell_type": "code",
   "execution_count": 27,
   "id": "sO3KjAOD1fOc",
   "metadata": {
    "colab": {
     "base_uri": "https://localhost:8080/"
    },
    "id": "sO3KjAOD1fOc",
    "outputId": "a59c733d-2935-43ae-d271-fefd80d5eb07"
   },
   "outputs": [
    {
     "data": {
      "text/plain": [
       "no     29\n",
       "yes    21\n",
       "Name: converted, dtype: int64"
      ]
     },
     "execution_count": 27,
     "metadata": {},
     "output_type": "execute_result"
    }
   ],
   "source": [
    "df[df['landing_page']=='old']['converted'].value_counts()"
   ]
  },
  {
   "cell_type": "code",
   "execution_count": 28,
   "id": "AOi9MVhE3PSw",
   "metadata": {
    "colab": {
     "base_uri": "https://localhost:8080/"
    },
    "id": "AOi9MVhE3PSw",
    "outputId": "b329ccd0-0b09-4f15-a1f8-4db3a5514fa0"
   },
   "outputs": [
    {
     "data": {
      "text/plain": [
       "yes    33\n",
       "no     17\n",
       "Name: converted, dtype: int64"
      ]
     },
     "execution_count": 28,
     "metadata": {},
     "output_type": "execute_result"
    }
   ],
   "source": [
    "df[df['landing_page']=='new']['converted'].value_counts()"
   ]
  },
  {
   "cell_type": "code",
   "execution_count": 29,
   "id": "Q648YXMA3TMv",
   "metadata": {
    "colab": {
     "base_uri": "https://localhost:8080/",
     "height": 280
    },
    "id": "Q648YXMA3TMv",
    "outputId": "3834bb81-a23f-4656-c6ce-c1f16577ae11"
   },
   "outputs": [
    {
     "data": {
      "image/png": "[encoded data removed]",
      "text/plain": [
       "<Figure size 432x288 with 1 Axes>"
      ]
     },
     "metadata": {
      "needs_background": "light"
     },
     "output_type": "display_data"
    }
   ],
   "source": [
    "sns.countplot(data=df, x=df['landing_page'], hue=df['converted']);\n",
    "plt.show()"
   ]
  },
  {
   "cell_type": "markdown",
   "id": "hIEmwOas3iaM",
   "metadata": {
    "id": "hIEmwOas3iaM"
   },
   "source": [
    "* 66% of users landing on the new page get converted to a subscriber of the news portal.\n",
    "* Only 42% of users landing on the old page get converted to a subscriber."
   ]
  },
  {
   "cell_type": "markdown",
   "id": "ZCVg12GW6zY7",
   "metadata": {
    "id": "ZCVg12GW6zY7"
   },
   "source": [
    "3. Analysing `language_preferred` vs `converted`"
   ]
  },
  {
   "cell_type": "code",
   "execution_count": 30,
   "id": "GTORbV8p65wk",
   "metadata": {
    "colab": {
     "base_uri": "https://localhost:8080/",
     "height": 280
    },
    "id": "GTORbV8p65wk",
    "outputId": "b0246cb7-1016-45d5-bdc9-3b207e34b124"
   },
   "outputs": [
    {
     "data": {
      "image/png": "[encoded data removed]",
      "text/plain": [
       "<Figure size 432x288 with 1 Axes>"
      ]
     },
     "metadata": {
      "needs_background": "light"
     },
     "output_type": "display_data"
    }
   ],
   "source": [
    "sns.countplot(data=df, x=df['language_preferred'], hue=df['converted']);\n",
    "plt.legend(loc='best', bbox_to_anchor=(0.7, 0.5, 0.5, 0.5))\n",
    "plt.show()"
   ]
  },
  {
   "cell_type": "markdown",
   "id": "x42vCrqn7BEG",
   "metadata": {
    "id": "x42vCrqn7BEG"
   },
   "source": [
    "* More users viewing the landing page in English are getting converted to subscribers, followed by Spanish.\n",
    "* Users viewing the landing page in French are not getting converted.\n",
    "* There is only a small difference in the conversion rates for users viewing the landing page in Spanish."
   ]
  },
  {
   "cell_type": "markdown",
   "id": "O80YNGID1qhC",
   "metadata": {
    "id": "O80YNGID1qhC"
   },
   "source": [
    "4. Analysing `time_spent_on_the_page` vs `converted`"
   ]
  },
  {
   "cell_type": "code",
   "execution_count": 31,
   "id": "UQ3t8Ehq1wYE",
   "metadata": {
    "colab": {
     "base_uri": "https://localhost:8080/",
     "height": 280
    },
    "id": "UQ3t8Ehq1wYE",
    "outputId": "6047fce8-dc10-4f2c-9ccf-e5cf6a8a8529"
   },
   "outputs": [
    {
     "data": {
      "image/png": "[encoded data removed]",
      "text/plain": [
       "<Figure size 432x288 with 1 Axes>"
      ]
     },
     "metadata": {
      "needs_background": "light"
     },
     "output_type": "display_data"
    }
   ],
   "source": [
    "sns.boxplot(data=df, x=df['time_spent_on_the_page'], y='converted');\n",
    "plt.show()"
   ]
  },
  {
   "cell_type": "markdown",
   "id": "V6Rt_U2TuECr",
   "metadata": {
    "id": "V6Rt_U2TuECr"
   },
   "source": [
    "* Conversion rate increases with increased time spent on the page.\n",
    "* Median value of time spent is about 6.4 mins for successful conversion.\n",
    "* Median value of time spent by users and not getting converted is about 3.8 mins.\n",
    "* The boxplot shows some outliers too."
   ]
  },
  {
   "cell_type": "markdown",
   "id": "U82jxInlBYXF",
   "metadata": {
    "id": "U82jxInlBYXF"
   },
   "source": [
    "5. Analysing `time_spent_on_the_page` on the old landing page for different `language_preferred`"
   ]
  },
  {
   "cell_type": "code",
   "execution_count": 32,
   "id": "yWtZvqdS68gO",
   "metadata": {
    "colab": {
     "base_uri": "https://localhost:8080/",
     "height": 443
    },
    "id": "yWtZvqdS68gO",
    "outputId": "8bd2145d-4bb6-49da-b7f0-1d4f6025424d"
   },
   "outputs": [
    {
     "data": {
      "image/png": "[encoded data removed]",
      "text/plain": [
       "<Figure size 576x504 with 1 Axes>"
      ]
     },
     "metadata": {
      "needs_background": "light"
     },
     "output_type": "display_data"
    }
   ],
   "source": [
    "plt.figure(figsize=[8,7])\n",
    "sns.boxplot(data=df, x=df[df['landing_page']=='old']['time_spent_on_the_page'], y='language_preferred');\n",
    "plt.show()"
   ]
  },
  {
   "cell_type": "markdown",
   "id": "VeTOJ6N1_Vtl",
   "metadata": {
    "id": "VeTOJ6N1_Vtl"
   },
   "source": [
    "* Median value of time spent on the old landing page viewed in Spanish language, approx. 4.8 mins. is the highest. The boxplot has outliers too.\n",
    "* Spanish is followed by French, with median value of approx. 4.2 mins.\n",
    "* Median value of time spent on the old landing page is comparatively lower for English(approx. 3.6 mins.)."
   ]
  },
  {
   "cell_type": "markdown",
   "id": "3CLfjSK8BZ1z",
   "metadata": {
    "id": "3CLfjSK8BZ1z"
   },
   "source": [
    "6. Analysing `time_spent_on_the_page` on the new landing page for different `language_preferred`"
   ]
  },
  {
   "cell_type": "code",
   "execution_count": 33,
   "id": "xt4qQYBk68c5",
   "metadata": {
    "colab": {
     "base_uri": "https://localhost:8080/",
     "height": 443
    },
    "id": "xt4qQYBk68c5",
    "outputId": "f789b3c6-ce5b-4fa5-c847-198820b5b9bf"
   },
   "outputs": [
    {
     "data": {
      "image/png": "[encoded data removed]",
      "text/plain": [
       "<Figure size 576x504 with 1 Axes>"
      ]
     },
     "metadata": {
      "needs_background": "light"
     },
     "output_type": "display_data"
    }
   ],
   "source": [
    "plt.figure(figsize=[8,7])\n",
    "sns.boxplot(data=df, x=df[df['landing_page']=='new']['time_spent_on_the_page'], y='language_preferred');\n",
    "plt.show()"
   ]
  },
  {
   "cell_type": "markdown",
   "id": "vhtXKQ_M_gWI",
   "metadata": {
    "id": "vhtXKQ_M_gWI"
   },
   "source": [
    "* Median value for time spent on the new landing page viewed in different languages has increased.\n",
    "* For Spanish language, the median is about 6.4 mins. The boxplot shows some outliers.\n",
    "* Meian value for time spent on the new landing page viewed in French too has improved too (approx. 5.4 mins.).\n",
    "* Median value for time spent on the new landing page viewed in English is the highest(approx. 7.2 mins.)."
   ]
  },
  {
   "cell_type": "markdown",
   "id": "27906576",
   "metadata": {
    "id": "27906576"
   },
   "source": [
    "## 1. Do the users spend more time on the new landing page than the existing landing page?"
   ]
  },
  {
   "cell_type": "markdown",
   "id": "e5fdf0c8",
   "metadata": {
    "id": "e5fdf0c8"
   },
   "source": [
    "### Perform Visual Analysis"
   ]
  },
  {
   "cell_type": "code",
   "execution_count": 34,
   "id": "6eZJa41eg21n",
   "metadata": {
    "colab": {
     "base_uri": "https://localhost:8080/",
     "height": 280
    },
    "id": "6eZJa41eg21n",
    "outputId": "a6eb2979-08dd-4d6a-c2d9-3b701a070636"
   },
   "outputs": [
    {
     "data": {
      "image/png": "[encoded data removed]",
      "text/plain": [
       "<Figure size 432x288 with 1 Axes>"
      ]
     },
     "metadata": {
      "needs_background": "light"
     },
     "output_type": "display_data"
    }
   ],
   "source": [
    "sns.boxplot(data=df, x=df['time_spent_on_the_page'], y='landing_page');\n",
    "plt.show()"
   ]
  },
  {
   "cell_type": "markdown",
   "id": "kLWqAt0GSwLT",
   "metadata": {
    "id": "kLWqAt0GSwLT"
   },
   "source": [
    "* From the visual analysis, `time_spent_on_the_page` for the new landing page is greater than that of the old landing page.\n",
    "* The boxplot for `time_spent_on_the_page` for new landing page has outliers."
   ]
  },
  {
   "cell_type": "markdown",
   "id": "56b3dafd",
   "metadata": {
    "id": "56b3dafd"
   },
   "source": [
    "### Step 1: Define the null and alternate hypotheses"
   ]
  },
  {
   "cell_type": "markdown",
   "id": "d2ac77ef",
   "metadata": {
    "id": "d2ac77ef"
   },
   "source": [
    "* Null Hypothesis, Ho : μ1=μ2, Time spent on the new landing page is same as the old landing page. \n",
    "* Alternate Hypothesis, Ha : μ1>μ2, Time spent on the new landing page is greater than the old landing page. (One-sided hypothesis)\n",
    "\n",
    "μ1- Average time spent on new landing page\n",
    "μ2- Average time spent on old landing page\n"
   ]
  },
  {
   "cell_type": "markdown",
   "id": "c7ee4907",
   "metadata": {
    "id": "c7ee4907"
   },
   "source": [
    "### Step 2: Select Appropriate test"
   ]
  },
  {
   "cell_type": "code",
   "execution_count": 35,
   "id": "DcfI4yR2XLvz",
   "metadata": {
    "colab": {
     "base_uri": "https://localhost:8080/"
    },
    "id": "DcfI4yR2XLvz",
    "outputId": "945b3732-db1b-4523-ba4b-91c5ea14b1ce"
   },
   "outputs": [
    {
     "name": "stdout",
     "output_type": "stream",
     "text": [
      "Mean for time_spent_on_the_page, given landing_page is new, in mins.  6.22\n",
      "Mean for time_spent_on_the_page, given landing_page is old, in mins.  4.53\n",
      "Std Deviation for time_spent_on_the_page, given landing_page is new, in mins.  1.82\n",
      "Std Deviation for time_spent_on_the_page, given landing_page is old, in mins.  2.58\n"
     ]
    }
   ],
   "source": [
    "# calculating mean for time_spent_on_the_page, given landing_page is new\n",
    "M1 = df[df['landing_page'] == 'new']['time_spent_on_the_page'].mean()\n",
    "# calculating mean for time_spent_on_the_page, given landing_page is old\n",
    "M2 = df[df['landing_page'] == 'old']['time_spent_on_the_page'].mean()\n",
    "# calculating std deviation for time_spent_on_the_page, given landing_page is new\n",
    "S1 = df[df['landing_page'] == 'new']['time_spent_on_the_page'].std()\n",
    "# calculating std deviation for time_spent_on_the_page, given landing_page is old\n",
    "S2 = df[df['landing_page'] == 'old']['time_spent_on_the_page'].std()\n",
    "print(\"Mean for time_spent_on_the_page, given landing_page is new, in mins. \" , round(M1, 2))\n",
    "print(\"Mean for time_spent_on_the_page, given landing_page is old, in mins. \" , round(M2, 2))\n",
    "print(\"Std Deviation for time_spent_on_the_page, given landing_page is new, in mins. \" , round(S1, 2))\n",
    "print(\"Std Deviation for time_spent_on_the_page, given landing_page is old, in mins. \" , round(S2, 2))"
   ]
  },
  {
   "cell_type": "markdown",
   "id": "2c183cd7",
   "metadata": {
    "id": "2c183cd7"
   },
   "source": [
    "* We have 2 samples, for which mean can be calculated. \n",
    "* The samples are from 2 independent populations. \n",
    "* Standard deviations are unequal. Hence, we assume the population standard deviations may be different.\n",
    "* Continuous data, normally distributed populations, random sampling from the population.\n",
    "* Hence, we choose 2-sample independent t-test."
   ]
  },
  {
   "cell_type": "markdown",
   "id": "3f58c9a7",
   "metadata": {
    "id": "3f58c9a7"
   },
   "source": [
    "### Step 3: Decide the significance level"
   ]
  },
  {
   "cell_type": "markdown",
   "id": "92d7d7ee",
   "metadata": {
    "id": "92d7d7ee"
   },
   "source": [
    "Here, we select Significance level, α= 0.05"
   ]
  },
  {
   "cell_type": "markdown",
   "id": "5fed2eac",
   "metadata": {
    "id": "5fed2eac"
   },
   "source": [
    "### Step 4: Collect and prepare data"
   ]
  },
  {
   "cell_type": "code",
   "execution_count": 36,
   "id": "f5a59495",
   "metadata": {
    "id": "f5a59495"
   },
   "outputs": [],
   "source": [
    "time_spent_on_new_page = np.array(df[df['landing_page'] == 'new']['time_spent_on_the_page'])\n",
    "time_spent_on_old_page = np.array(df[df['landing_page'] == 'old']['time_spent_on_the_page'])"
   ]
  },
  {
   "cell_type": "markdown",
   "id": "f5c5258d",
   "metadata": {
    "id": "f5c5258d"
   },
   "source": [
    "### Step 5: Calculate the p-value"
   ]
  },
  {
   "cell_type": "code",
   "execution_count": 38,
   "id": "WqSFIhTdZqFl",
   "metadata": {
    "colab": {
     "base_uri": "https://localhost:8080/",
     "height": 35
    },
    "id": "WqSFIhTdZqFl",
    "outputId": "160f5292-fa46-4633-e82c-2e82f2ce4d37"
   },
   "outputs": [
    {
     "data": {
      "application/vnd.google.colaboratory.intrinsic+json": {
       "type": "string"
      },
      "text/plain": [
       "'1.4.1'"
      ]
     },
     "execution_count": 38,
     "metadata": {},
     "output_type": "execute_result"
    }
   ],
   "source": [
    "#checking scipy version aand upgrading\n",
    "import scipy\n",
    "scipy.__version__\n"
   ]
  },
  {
   "cell_type": "code",
   "execution_count": 39,
   "id": "4pVIOK_GZyv7",
   "metadata": {
    "colab": {
     "base_uri": "https://localhost:8080/",
     "height": 367
    },
    "id": "4pVIOK_GZyv7",
    "outputId": "bd306d13-e31b-40a6-91bb-fb5b06a00510"
   },
   "outputs": [
    {
     "name": "stdout",
     "output_type": "stream",
     "text": [
      "Looking in indexes: https://pypi.org/simple, https://us-python.pkg.dev/colab-wheels/public/simple/\n",
      "Requirement already satisfied: scipy in /usr/local/lib/python3.7/dist-packages (1.4.1)\n",
      "Collecting scipy\n",
      "  Downloading scipy-1.7.3-cp37-cp37m-manylinux_2_12_x86_64.manylinux2010_x86_64.whl (38.1 MB)\n",
      "\u001b[K     |████████████████████████████████| 38.1 MB 58.6 MB/s \n",
      "\u001b[?25hRequirement already satisfied: numpy<1.23.0,>=1.16.5 in /usr/local/lib/python3.7/dist-packages (from scipy) (1.21.6)\n",
      "Installing collected packages: scipy\n",
      "  Attempting uninstall: scipy\n",
      "    Found existing installation: scipy 1.4.1\n",
      "    Uninstalling scipy-1.4.1:\n",
      "      Successfully uninstalled scipy-1.4.1\n",
      "\u001b[31mERROR: pip's dependency resolver does not currently take into account all the packages that are installed. This behaviour is the source of the following dependency conflicts.\n",
      "albumentations 0.1.12 requires imgaug<0.2.7,>=0.2.5, but you have imgaug 0.2.9 which is incompatible.\u001b[0m\n",
      "Successfully installed scipy-1.7.3\n"
     ]
    },
    {
     "data": {
      "application/vnd.colab-display-data+json": {
       "pip_warning": {
        "packages": [
         "scipy"
        ]
       }
      }
     },
     "metadata": {},
     "output_type": "display_data"
    }
   ],
   "source": [
    "!pip install --upgrade scipy"
   ]
  },
  {
   "cell_type": "code",
   "execution_count": 37,
   "id": "fac8594a",
   "metadata": {
    "colab": {
     "base_uri": "https://localhost:8080/"
    },
    "id": "fac8594a",
    "outputId": "f4736303-9765-4419-ede5-2628c7e30c59"
   },
   "outputs": [
    {
     "name": "stdout",
     "output_type": "stream",
     "text": [
      "0.0001\n"
     ]
    }
   ],
   "source": [
    "from scipy.stats import ttest_ind\n",
    "test_statistic, p_value = ttest_ind(time_spent_on_new_page, time_spent_on_old_page, equal_var=False, alternative='greater')\n",
    "print(round(p_value, 4))"
   ]
  },
  {
   "cell_type": "markdown",
   "id": "359b12f8",
   "metadata": {
    "id": "359b12f8"
   },
   "source": [
    "### Step 6: Compare the p-value with $\\alpha$"
   ]
  },
  {
   "cell_type": "code",
   "execution_count": 38,
   "id": "7be47289",
   "metadata": {
    "colab": {
     "base_uri": "https://localhost:8080/"
    },
    "id": "7be47289",
    "outputId": "0469fc22-a75f-44d7-9ea8-a6ce66ea5a12"
   },
   "outputs": [
    {
     "name": "stdout",
     "output_type": "stream",
     "text": [
      "As the p-value 0.0001392381225166549 is less than the level of significance, we reject the null hypothesis.\n"
     ]
    }
   ],
   "source": [
    "# print the conclusion based on p-value\n",
    "if p_value < 0.05:\n",
    "    print(f'As the p-value {p_value} is less than the level of significance, we reject the null hypothesis.')\n",
    "else:\n",
    "    print(f'As the p-value {p_value} is greater than the level of significance, we fail to reject the null hypothesis.')"
   ]
  },
  {
   "cell_type": "markdown",
   "id": "d9affc84",
   "metadata": {
    "id": "d9affc84"
   },
   "source": [
    "### Step 7:  Draw inference"
   ]
  },
  {
   "cell_type": "markdown",
   "id": "6b16dd4b",
   "metadata": {
    "id": "6b16dd4b"
   },
   "source": [
    "Since the p_value is <0.05, we reject the null hypothesis. Hence, we have enough statistical evidence to say that time spent on the new landing page is greater than the old landing page."
   ]
  },
  {
   "cell_type": "markdown",
   "id": "1ad0823a",
   "metadata": {
    "id": "1ad0823a"
   },
   "source": [
    "**A similar approach can be followed to answer the other questions.**"
   ]
  },
  {
   "cell_type": "markdown",
   "id": "353e9d24",
   "metadata": {
    "id": "353e9d24"
   },
   "source": [
    "## 2. Is the conversion rate (the proportion of users who visit the landing page and get converted) for the new page greater than the conversion rate for the old page?"
   ]
  },
  {
   "cell_type": "markdown",
   "id": "hXlJYYcJbHIL",
   "metadata": {
    "id": "hXlJYYcJbHIL"
   },
   "source": [
    "### Perform Visual Analysis"
   ]
  },
  {
   "cell_type": "code",
   "execution_count": 39,
   "id": "_TfYSM_SkZTy",
   "metadata": {
    "colab": {
     "base_uri": "https://localhost:8080/"
    },
    "id": "_TfYSM_SkZTy",
    "outputId": "4f72a6de-12c4-4283-f43f-d330136e3c82"
   },
   "outputs": [
    {
     "data": {
      "text/plain": [
       "old    50\n",
       "new    50\n",
       "Name: landing_page, dtype: int64"
      ]
     },
     "execution_count": 39,
     "metadata": {},
     "output_type": "execute_result"
    }
   ],
   "source": [
    "df['landing_page'].value_counts()"
   ]
  },
  {
   "cell_type": "code",
   "execution_count": 40,
   "id": "WDWIY-ickd2l",
   "metadata": {
    "colab": {
     "base_uri": "https://localhost:8080/"
    },
    "id": "WDWIY-ickd2l",
    "outputId": "c6bd47e4-2f80-4717-9954-567a1cce2355"
   },
   "outputs": [
    {
     "data": {
      "text/plain": [
       "no     29\n",
       "yes    21\n",
       "Name: converted, dtype: int64"
      ]
     },
     "execution_count": 40,
     "metadata": {},
     "output_type": "execute_result"
    }
   ],
   "source": [
    "df[df['landing_page']=='old']['converted'].value_counts()"
   ]
  },
  {
   "cell_type": "code",
   "execution_count": 41,
   "id": "Pwfpp3xflDI5",
   "metadata": {
    "colab": {
     "base_uri": "https://localhost:8080/"
    },
    "id": "Pwfpp3xflDI5",
    "outputId": "440da3b6-0b91-4526-c525-2f45152497b1"
   },
   "outputs": [
    {
     "data": {
      "text/plain": [
       "yes    33\n",
       "no     17\n",
       "Name: converted, dtype: int64"
      ]
     },
     "execution_count": 41,
     "metadata": {},
     "output_type": "execute_result"
    }
   ],
   "source": [
    "df[df['landing_page']=='new']['converted'].value_counts()"
   ]
  },
  {
   "cell_type": "code",
   "execution_count": 42,
   "id": "WFEIUpHPbHIL",
   "metadata": {
    "colab": {
     "base_uri": "https://localhost:8080/",
     "height": 280
    },
    "id": "WFEIUpHPbHIL",
    "outputId": "14f74d40-6d15-4736-834e-244357910107"
   },
   "outputs": [
    {
     "data": {
      "image/png": "[encoded data removed]",
      "text/plain": [
       "<Figure size 432x288 with 1 Axes>"
      ]
     },
     "metadata": {
      "needs_background": "light"
     },
     "output_type": "display_data"
    }
   ],
   "source": [
    "sns.countplot(data=df, x=df['landing_page'], hue='converted');\n",
    "plt.legend(loc='best', bbox_to_anchor=(1.02, 1))\n",
    "plt.show()"
   ]
  },
  {
   "cell_type": "markdown",
   "id": "p9WNomsnbHIM",
   "metadata": {
    "id": "p9WNomsnbHIM"
   },
   "source": [
    "* From the visual analysis, conversion rate for the new landing page is greater than that of the old landing page."
   ]
  },
  {
   "cell_type": "markdown",
   "id": "ceAThyAWbHIM",
   "metadata": {
    "id": "ceAThyAWbHIM"
   },
   "source": [
    "### Step 1: Define the null and alternate hypotheses"
   ]
  },
  {
   "cell_type": "markdown",
   "id": "CowCzt2qbHIM",
   "metadata": {
    "id": "CowCzt2qbHIM"
   },
   "source": [
    "* Null Hypothesis, Ho : P1=P2, The proportion of users who visit the new landing page and get converted is same as that for the old landing page. \n",
    "* Alternate Hypothesis, Ha : P1≠P2, The proportion of users who visit the new landing page and get converted is greater than that for the old landing page."
   ]
  },
  {
   "cell_type": "markdown",
   "id": "4Hpp0YkVbHIM",
   "metadata": {
    "id": "4Hpp0YkVbHIM"
   },
   "source": [
    "### Step 2: Select Appropriate test"
   ]
  },
  {
   "cell_type": "markdown",
   "id": "Bx9EwvKlbHIN",
   "metadata": {
    "id": "Bx9EwvKlbHIN"
   },
   "source": [
    "* We have two population proportions from two independent populations.\n",
    "* This is a one-tailed test.\n",
    "* Random sampling from the population.\n",
    "* Hence, we use the 2-proportion Z-test."
   ]
  },
  {
   "cell_type": "markdown",
   "id": "At0OUgVBbHIN",
   "metadata": {
    "id": "At0OUgVBbHIN"
   },
   "source": [
    "### Step 3: Decide the significance level"
   ]
  },
  {
   "cell_type": "markdown",
   "id": "RL5idSuPbHIN",
   "metadata": {
    "id": "RL5idSuPbHIN"
   },
   "source": [
    "Here, we select Significance level, α= 0.05"
   ]
  },
  {
   "cell_type": "markdown",
   "id": "frFRAmTAbHIN",
   "metadata": {
    "id": "frFRAmTAbHIN"
   },
   "source": [
    "### Step 4: Collect and prepare data"
   ]
  },
  {
   "cell_type": "code",
   "execution_count": 43,
   "id": "Fjxd4_m7SOb7",
   "metadata": {
    "id": "Fjxd4_m7SOb7"
   },
   "outputs": [],
   "source": [
    "# set the counts of users who got converted for new and old landing pages\n",
    "converted_count = np.array([df[df['landing_page']=='new']['converted'].value_counts()['yes'], \n",
    "                            df[df['landing_page']=='old']['converted'].value_counts()['yes']])\n",
    "\n",
    "# set the sample sizes for new and old pages\n",
    "nobs = np.array([df['landing_page'].value_counts()['new'], df['landing_page'].value_counts()['old']])"
   ]
  },
  {
   "cell_type": "markdown",
   "id": "3aYnGIMhbHIO",
   "metadata": {
    "id": "3aYnGIMhbHIO"
   },
   "source": [
    "### Step 5: Calculate the p-value"
   ]
  },
  {
   "cell_type": "code",
   "execution_count": 44,
   "id": "2Ru151-sbHIO",
   "metadata": {
    "colab": {
     "base_uri": "https://localhost:8080/"
    },
    "id": "2Ru151-sbHIO",
    "outputId": "781b54fa-859b-465a-e480-b2a678a4290f"
   },
   "outputs": [
    {
     "name": "stdout",
     "output_type": "stream",
     "text": [
      "0.008026308204056278\n"
     ]
    },
    {
     "name": "stderr",
     "output_type": "stream",
     "text": [
      "/usr/local/lib/python3.7/dist-packages/statsmodels/tools/_testing.py:19: FutureWarning: pandas.util.testing is deprecated. Use the functions in the public API at pandas.testing instead.\n",
      "  import pandas.util.testing as tm\n"
     ]
    }
   ],
   "source": [
    "from statsmodels.stats.proportion import proportions_ztest\n",
    "\n",
    "test_statistic, p_value = proportions_ztest(converted_count, nobs, alternative='larger')\n",
    "print(p_value)"
   ]
  },
  {
   "cell_type": "markdown",
   "id": "w7OOkc4qbHIO",
   "metadata": {
    "id": "w7OOkc4qbHIO"
   },
   "source": [
    "### Step 6: Compare the p-value with $\\alpha$"
   ]
  },
  {
   "cell_type": "code",
   "execution_count": 45,
   "id": "UpbxDZoAbHIO",
   "metadata": {
    "colab": {
     "base_uri": "https://localhost:8080/"
    },
    "id": "UpbxDZoAbHIO",
    "outputId": "92ee2fdf-946c-491b-a38f-2c56f4183f9c"
   },
   "outputs": [
    {
     "name": "stdout",
     "output_type": "stream",
     "text": [
      "As the p-value 0.008026308204056278 is less than the level of significance, we reject the null hypothesis.\n"
     ]
    }
   ],
   "source": [
    "# print the conclusion based on p-value\n",
    "if p_value < 0.05:\n",
    "    print(f'As the p-value {p_value} is less than the level of significance, we reject the null hypothesis.')\n",
    "else:\n",
    "    print(f'As the p-value {p_value} is greater than the level of significance, we fail to reject the null hypothesis.')"
   ]
  },
  {
   "cell_type": "markdown",
   "id": "7xGnbun4bHIO",
   "metadata": {
    "id": "7xGnbun4bHIO"
   },
   "source": [
    "### Step 7:  Draw inference"
   ]
  },
  {
   "cell_type": "markdown",
   "id": "JJ_bHIOVbHIP",
   "metadata": {
    "id": "JJ_bHIOVbHIP"
   },
   "source": [
    "Since the p_value is <0.05, we reject the null hypothesis. Hence, we have enough statistical evidence to say that the proportion of users who visit the new landing page and get converted is greater than that for the old landing page."
   ]
  },
  {
   "cell_type": "markdown",
   "id": "d49bfa2d",
   "metadata": {
    "id": "d49bfa2d"
   },
   "source": [
    "## 3. Is the conversion and preferred language are independent or related?"
   ]
  },
  {
   "cell_type": "markdown",
   "id": "bM9O5iTHpyZ7",
   "metadata": {
    "id": "bM9O5iTHpyZ7"
   },
   "source": [
    "### Perform Visual Analysis"
   ]
  },
  {
   "cell_type": "code",
   "execution_count": 46,
   "id": "mPUKed9ipyZ8",
   "metadata": {
    "colab": {
     "base_uri": "https://localhost:8080/"
    },
    "id": "mPUKed9ipyZ8",
    "outputId": "1024ad33-4202-4a93-f155-5e72a04c2125"
   },
   "outputs": [
    {
     "data": {
      "text/plain": [
       "Spanish    34\n",
       "French     34\n",
       "English    32\n",
       "Name: language_preferred, dtype: int64"
      ]
     },
     "execution_count": 46,
     "metadata": {},
     "output_type": "execute_result"
    }
   ],
   "source": [
    "df['language_preferred'].value_counts()"
   ]
  },
  {
   "cell_type": "code",
   "execution_count": 47,
   "id": "EJE3Fk9ypyZ8",
   "metadata": {
    "colab": {
     "base_uri": "https://localhost:8080/"
    },
    "id": "EJE3Fk9ypyZ8",
    "outputId": "e3b931a0-e59d-4c77-84e4-cfa60234d843"
   },
   "outputs": [
    {
     "data": {
      "text/plain": [
       "English    21\n",
       "Spanish    18\n",
       "French     15\n",
       "Name: language_preferred, dtype: int64"
      ]
     },
     "execution_count": 47,
     "metadata": {},
     "output_type": "execute_result"
    }
   ],
   "source": [
    "df[df['converted']=='yes']['language_preferred'].value_counts()"
   ]
  },
  {
   "cell_type": "code",
   "execution_count": 48,
   "id": "lhKq3OZXpyZ9",
   "metadata": {
    "colab": {
     "base_uri": "https://localhost:8080/"
    },
    "id": "lhKq3OZXpyZ9",
    "outputId": "fc93c50d-9561-4741-8983-c41f00b01f26"
   },
   "outputs": [
    {
     "data": {
      "text/plain": [
       "French     19\n",
       "Spanish    16\n",
       "English    11\n",
       "Name: language_preferred, dtype: int64"
      ]
     },
     "execution_count": 48,
     "metadata": {},
     "output_type": "execute_result"
    }
   ],
   "source": [
    "df[df['converted']=='no']['language_preferred'].value_counts()"
   ]
  },
  {
   "cell_type": "code",
   "execution_count": 49,
   "id": "0pWi0eP3pyZ9",
   "metadata": {
    "colab": {
     "base_uri": "https://localhost:8080/",
     "height": 279
    },
    "id": "0pWi0eP3pyZ9",
    "outputId": "f69fb31d-70a1-4761-ae66-44424bb96f55"
   },
   "outputs": [
    {
     "data": {
      "image/png": "[encoded data removed]",
      "text/plain": [
       "<Figure size 432x288 with 1 Axes>"
      ]
     },
     "metadata": {
      "needs_background": "light"
     },
     "output_type": "display_data"
    }
   ],
   "source": [
    "sns.countplot(data=df, x=df['converted'], hue='language_preferred');\n",
    "plt.legend(loc='best', bbox_to_anchor=(1.02, 1))\n",
    "plt.show()"
   ]
  },
  {
   "cell_type": "markdown",
   "id": "5Dm_hlVfpyZ9",
   "metadata": {
    "id": "5Dm_hlVfpyZ9"
   },
   "source": [
    "* From the visual analysis, more users viewing the landing page in English have converted to subscriber, followed by Spanish.\n",
    "* However, the number of users viewing the landing page in French getting converted to subscriber is lesser."
   ]
  },
  {
   "cell_type": "markdown",
   "id": "jBNIru4JpyZ-",
   "metadata": {
    "id": "jBNIru4JpyZ-"
   },
   "source": [
    "### Step 1: Define the null and alternate hypotheses"
   ]
  },
  {
   "cell_type": "markdown",
   "id": "UXV_RLkApyZ-",
   "metadata": {
    "id": "UXV_RLkApyZ-"
   },
   "source": [
    "* Null Hypothesis, Ho : Conversion rate is independent of the preferred language. \n",
    "* Alternate Hypothesis, Ha : Conversion rate is dependent on the preferred language."
   ]
  },
  {
   "cell_type": "markdown",
   "id": "BlJUFmHppyZ-",
   "metadata": {
    "id": "BlJUFmHppyZ-"
   },
   "source": [
    "### Step 2: Select Appropriate test"
   ]
  },
  {
   "cell_type": "markdown",
   "id": "lSoddvFupyZ-",
   "metadata": {
    "id": "lSoddvFupyZ-"
   },
   "source": [
    "* Conversion rate and language preferred are categorical variables.\n",
    "* Expected value of the number of sample observations in each level of the variable is at least 5.\n",
    "* Random sampling from the population.\n",
    "* Hence, we use Chi-square test of independence of attributes."
   ]
  },
  {
   "cell_type": "markdown",
   "id": "lC8lm2xOpyZ_",
   "metadata": {
    "id": "lC8lm2xOpyZ_"
   },
   "source": [
    "### Step 3: Decide the significance level"
   ]
  },
  {
   "cell_type": "markdown",
   "id": "5FC9w-5upyZ_",
   "metadata": {
    "id": "5FC9w-5upyZ_"
   },
   "source": [
    "Here, we select Significance level, α= 0.05"
   ]
  },
  {
   "cell_type": "markdown",
   "id": "H8kguQoQpyZ_",
   "metadata": {
    "id": "H8kguQoQpyZ_"
   },
   "source": [
    "### Step 4: Collect and prepare data"
   ]
  },
  {
   "cell_type": "code",
   "execution_count": 50,
   "id": "KQ7Bdfd9pyZ_",
   "metadata": {
    "colab": {
     "base_uri": "https://localhost:8080/"
    },
    "id": "KQ7Bdfd9pyZ_",
    "outputId": "f7d92468-bc2b-4ee8-f8ed-7a94b3b76b8d"
   },
   "outputs": [
    {
     "name": "stdout",
     "output_type": "stream",
     "text": [
      "language_preferred  English  French  Spanish\n",
      "converted                                   \n",
      "no                       11      19       16\n",
      "yes                      21      15       18\n"
     ]
    }
   ],
   "source": [
    "# create contingency table\n",
    "contingency_table = pd.crosstab(df['converted'], df['language_preferred'])\n",
    "print(contingency_table)"
   ]
  },
  {
   "cell_type": "markdown",
   "id": "4lJHGCe8pyaA",
   "metadata": {
    "id": "4lJHGCe8pyaA"
   },
   "source": [
    "### Step 5: Calculate the p-value"
   ]
  },
  {
   "cell_type": "code",
   "execution_count": 51,
   "id": "bw5LMHTepyaA",
   "metadata": {
    "colab": {
     "base_uri": "https://localhost:8080/"
    },
    "id": "bw5LMHTepyaA",
    "outputId": "4fbdfa11-8b9c-4685-fce0-738497619c43"
   },
   "outputs": [
    {
     "name": "stdout",
     "output_type": "stream",
     "text": [
      "0.213\n"
     ]
    }
   ],
   "source": [
    "from scipy.stats import chi2_contingency\n",
    "chi2, p_value, dof, exp_freq = chi2_contingency(contingency_table)\n",
    "print(round(p_value, 4))"
   ]
  },
  {
   "cell_type": "markdown",
   "id": "MZHnPhZHpyaA",
   "metadata": {
    "id": "MZHnPhZHpyaA"
   },
   "source": [
    "### Step 6: Compare the p-value with $\\alpha$"
   ]
  },
  {
   "cell_type": "code",
   "execution_count": 52,
   "id": "cfyrMF_DpyaA",
   "metadata": {
    "colab": {
     "base_uri": "https://localhost:8080/"
    },
    "id": "cfyrMF_DpyaA",
    "outputId": "ca7a7644-b067-4aa3-ec10-91c97d85d4ca"
   },
   "outputs": [
    {
     "name": "stdout",
     "output_type": "stream",
     "text": [
      "As the p-value 0.21298887487543447 is greater than the level of significance, we fail to reject the null hypothesis.\n"
     ]
    }
   ],
   "source": [
    "# print the conclusion based on p-value\n",
    "if p_value < 0.05:\n",
    "    print(f'As the p-value {p_value} is less than the level of significance, we reject the null hypothesis.')\n",
    "else:\n",
    "    print(f'As the p-value {p_value} is greater than the level of significance, we fail to reject the null hypothesis.')"
   ]
  },
  {
   "cell_type": "markdown",
   "id": "RJiPI2gIpyaB",
   "metadata": {
    "id": "RJiPI2gIpyaB"
   },
   "source": [
    "### Step 7:  Draw inference"
   ]
  },
  {
   "cell_type": "markdown",
   "id": "skHdpPj7pyaB",
   "metadata": {
    "id": "skHdpPj7pyaB"
   },
   "source": [
    "Since the p_value is >0.05, we fail to reject the null hypothesis. Hence, we have enough statistical evidence to say that conversion rate is independent of the language preferred."
   ]
  },
  {
   "cell_type": "markdown",
   "id": "8d585a90",
   "metadata": {
    "id": "8d585a90"
   },
   "source": [
    "## 4. Is the time spent on the new page same for the different language users?"
   ]
  },
  {
   "cell_type": "markdown",
   "id": "3JHnO3mVuc3Q",
   "metadata": {
    "id": "3JHnO3mVuc3Q"
   },
   "source": [
    "### Perform Visual Analysis"
   ]
  },
  {
   "cell_type": "code",
   "execution_count": 53,
   "id": "sIMOq04Buc3Z",
   "metadata": {
    "colab": {
     "base_uri": "https://localhost:8080/",
     "height": 280
    },
    "id": "sIMOq04Buc3Z",
    "outputId": "45eefd0d-2949-4409-f70f-ec155d05f936"
   },
   "outputs": [
    {
     "data": {
      "image/png": "[encoded data removed]",
      "text/plain": [
       "<Figure size 432x288 with 1 Axes>"
      ]
     },
     "metadata": {
      "needs_background": "light"
     },
     "output_type": "display_data"
    }
   ],
   "source": [
    "sns.boxplot(data=df, x='language_preferred', y=df[df['landing_page']=='new']['time_spent_on_the_page']);\n",
    "plt.show()"
   ]
  },
  {
   "cell_type": "markdown",
   "id": "xEI6y52Wuc3Z",
   "metadata": {
    "id": "xEI6y52Wuc3Z"
   },
   "source": [
    "* From the visual analysis, for the new landing page, the time spent differs for different languages.\n",
    "* The boxplot shows some outliers too."
   ]
  },
  {
   "cell_type": "markdown",
   "id": "6zwexXlguc3a",
   "metadata": {
    "id": "6zwexXlguc3a"
   },
   "source": [
    "### Step 1: Define the null and alternate hypotheses"
   ]
  },
  {
   "cell_type": "markdown",
   "id": "vRwdtoYjuc3a",
   "metadata": {
    "id": "vRwdtoYjuc3a"
   },
   "source": [
    "If  μ1,μ2,μ3  are the mean values of time spent for languages Spanish, English and French respectively,\n",
    "\n",
    "* Null Hypothesis, Ho : μ1=μ2=μ3, Mean values of time spent on the new page is same for different languages preferred.\n",
    "* Alternate Hypothesis, Ha : Atleast one mean value of time spent on the new page is different from the rest."
   ]
  },
  {
   "cell_type": "markdown",
   "id": "UGo2bU14uc3a",
   "metadata": {
    "id": "UGo2bU14uc3a"
   },
   "source": [
    "### Step 2: Select Appropriate test"
   ]
  },
  {
   "cell_type": "markdown",
   "id": "sSMILGu5uc3a",
   "metadata": {
    "id": "sSMILGu5uc3a"
   },
   "source": [
    "* To determine whether the means of more than 2 independent populations are significantly different, we use the one-way ANOVA test."
   ]
  },
  {
   "cell_type": "markdown",
   "id": "4OOZ594Quc3a",
   "metadata": {
    "id": "4OOZ594Quc3a"
   },
   "source": [
    "### Step 3: Decide the significance level"
   ]
  },
  {
   "cell_type": "markdown",
   "id": "PnfT3Jxbuc3a",
   "metadata": {
    "id": "PnfT3Jxbuc3a"
   },
   "source": [
    "Here, we select Significance level, α= 0.05"
   ]
  },
  {
   "cell_type": "markdown",
   "id": "Wz6PLyAzuc3a",
   "metadata": {
    "id": "Wz6PLyAzuc3a"
   },
   "source": [
    "### Step 4: Collect and prepare data"
   ]
  },
  {
   "cell_type": "code",
   "execution_count": 54,
   "id": "PVp1hVdLuf44",
   "metadata": {
    "colab": {
     "base_uri": "https://localhost:8080/"
    },
    "id": "PVp1hVdLuf44",
    "outputId": "0d023cd5-da47-480e-b535-dd849f50a562"
   },
   "outputs": [
    {
     "data": {
      "text/plain": [
       "Spanish    34\n",
       "French     34\n",
       "English    32\n",
       "Name: language_preferred, dtype: int64"
      ]
     },
     "execution_count": 54,
     "metadata": {},
     "output_type": "execute_result"
    }
   ],
   "source": [
    "df['language_preferred'].value_counts()"
   ]
  },
  {
   "cell_type": "code",
   "execution_count": 55,
   "id": "YzVfMIT-uzuw",
   "metadata": {
    "colab": {
     "base_uri": "https://localhost:8080/"
    },
    "id": "YzVfMIT-uzuw",
    "outputId": "785c622e-4106-455a-f2c4-63f1b36b5c97"
   },
   "outputs": [
    {
     "name": "stdout",
     "output_type": "stream",
     "text": [
      "Mean value of time spent on the new page in Spanish language is  5.8353\n",
      "Mean value of time spent on the new page in English language is  6.6638\n",
      "Mean value of time spent on the new page in French language is  6.1965\n"
     ]
    }
   ],
   "source": [
    "# calculating the mean values of time spent for different languages\n",
    "df_new = df[df['landing_page']=='new']\n",
    "Ms = df_new[df_new['language_preferred']=='Spanish']['time_spent_on_the_page'].mean()\n",
    "Me = df_new[df_new['language_preferred']=='English']['time_spent_on_the_page'].mean()\n",
    "Mf = df_new[df_new['language_preferred']=='French']['time_spent_on_the_page'].mean()\n",
    "print('Mean value of time spent on the new page in Spanish language is ', round(Ms,4))\n",
    "print('Mean value of time spent on the new page in English language is ', round(Me,4))\n",
    "print('Mean value of time spent on the new page in French language is ', round(Mf,4))"
   ]
  },
  {
   "cell_type": "markdown",
   "id": "aqTpW0B1wg7w",
   "metadata": {
    "id": "aqTpW0B1wg7w"
   },
   "source": [
    "* The normality and equality of variance assumptions need to be checked.\n",
    "* For testing of normality, Shapiro-Wilk’s test is applied to the response variable.\n",
    "* For equality of variance, Levene test is applied to the response variable."
   ]
  },
  {
   "cell_type": "markdown",
   "id": "TFMVz1wBwwNj",
   "metadata": {
    "id": "TFMVz1wBwwNj"
   },
   "source": [
    "### *Shapiro-Wilk’s test*\n",
    "We test the null hypothesis, Ho:  Time spent follows a normal distribution \n",
    "\n",
    "against the alternative hypothesis\n",
    "\n",
    "Ha:  Time spent does not follow a normal distribution"
   ]
  },
  {
   "cell_type": "code",
   "execution_count": 56,
   "id": "aXkF0s8ZxHMy",
   "metadata": {
    "colab": {
     "base_uri": "https://localhost:8080/"
    },
    "id": "aXkF0s8ZxHMy",
    "outputId": "af082abc-49bb-4b8a-d052-c430760519d6"
   },
   "outputs": [
    {
     "name": "stdout",
     "output_type": "stream",
     "text": [
      "0.5643684267997742\n"
     ]
    }
   ],
   "source": [
    "# calculate p_value for Shapiro Wilk's test\n",
    "from scipy import stats\n",
    "test_statistic, p_value = stats.shapiro(df['time_spent_on_the_page'])\n",
    "print(p_value)"
   ]
  },
  {
   "cell_type": "code",
   "execution_count": 57,
   "id": "6JaOYF1Excl1",
   "metadata": {
    "colab": {
     "base_uri": "https://localhost:8080/"
    },
    "id": "6JaOYF1Excl1",
    "outputId": "fcf33e86-2884-4ed1-9f93-baf69f45eaff"
   },
   "outputs": [
    {
     "name": "stdout",
     "output_type": "stream",
     "text": [
      "As the p-value 0.5643684267997742 is greater than the level of significance, we fail to reject the null hypothesis.\n"
     ]
    }
   ],
   "source": [
    "# print the conclusion based on p-value\n",
    "if p_value < 0.05:\n",
    "    print(f'As the p-value {p_value} is less than the level of significance, we reject the null hypothesis.')\n",
    "else:\n",
    "    print(f'As the p-value {p_value} is greater than the level of significance, we fail to reject the null hypothesis.')"
   ]
  },
  {
   "cell_type": "markdown",
   "id": "d9qVfBmMxuPs",
   "metadata": {
    "id": "d9qVfBmMxuPs"
   },
   "source": [
    "Since the p_value is >0.05, we fail to reject the null hypothesis. Hence, we have enough statistical evidence to say that time spent follows a normal distribution."
   ]
  },
  {
   "cell_type": "markdown",
   "id": "t-GYMxy9x5PC",
   "metadata": {
    "id": "t-GYMxy9x5PC"
   },
   "source": [
    "### *Levene’s test*\n",
    "We test the null hypothesis\n",
    "\n",
    "Ho : All the population variances are equal\n",
    "\n",
    "against the alternative hypothesis\n",
    "\n",
    "Ha : At least one variance is different from the rest"
   ]
  },
  {
   "cell_type": "code",
   "execution_count": 58,
   "id": "trSjYLJJyAxG",
   "metadata": {
    "colab": {
     "base_uri": "https://localhost:8080/"
    },
    "id": "trSjYLJJyAxG",
    "outputId": "d892e285-2fea-4f73-a9de-9ff424b21c65"
   },
   "outputs": [
    {
     "name": "stdout",
     "output_type": "stream",
     "text": [
      "0.46711357711340173\n"
     ]
    }
   ],
   "source": [
    "from scipy.stats import levene\n",
    "df_new = df[df['landing_page']=='new']\n",
    "test_statistic, p_value = levene(df_new[df_new['language_preferred'] == 'Spanish']['time_spent_on_the_page'],\n",
    "                                 df_new[df_new['language_preferred'] == 'English']['time_spent_on_the_page'],\n",
    "                                 df_new[df_new['language_preferred'] == 'French']['time_spent_on_the_page']\n",
    "                                 )\n",
    "print(p_value)"
   ]
  },
  {
   "cell_type": "code",
   "execution_count": 59,
   "id": "Q2aIx9BsyZnQ",
   "metadata": {
    "colab": {
     "base_uri": "https://localhost:8080/"
    },
    "id": "Q2aIx9BsyZnQ",
    "outputId": "fdac0ef3-7fb8-44dd-c1fb-6a2933a2fa99"
   },
   "outputs": [
    {
     "name": "stdout",
     "output_type": "stream",
     "text": [
      "As the p-value 0.46711357711340173 is greater than the level of significance, we fail to reject the null hypothesis.\n"
     ]
    }
   ],
   "source": [
    "# print the conclusion based on p-value\n",
    "if p_value < 0.05:\n",
    "    print(f'As the p-value {p_value} is less than the level of significance, we reject the null hypothesis.')\n",
    "else:\n",
    "    print(f'As the p-value {p_value} is greater than the level of significance, we fail to reject the null hypothesis.')"
   ]
  },
  {
   "cell_type": "markdown",
   "id": "o1B6FMwPydCH",
   "metadata": {
    "id": "o1B6FMwPydCH"
   },
   "source": [
    "Since the p_value is >0.05, we fail to reject the null hypothesis. Hence, we have enough statistical evidence to say that the population variances are same.\n"
   ]
  },
  {
   "cell_type": "markdown",
   "id": "1dE9CpXnyo1i",
   "metadata": {
    "id": "1dE9CpXnyo1i"
   },
   "source": [
    "Checking if the assumptions were followed,\n",
    "\n",
    "* The populations are normally distributed - verified using the Shapiro-Wilk’s test.\n",
    "* Given that the samples are independent simple random samples.\n",
    "* Population variances are equal - verified using the Levene's test."
   ]
  },
  {
   "cell_type": "markdown",
   "id": "LczJ-Mnguc3b",
   "metadata": {
    "id": "LczJ-Mnguc3b"
   },
   "source": [
    "### Step 5: Calculate the p-value"
   ]
  },
  {
   "cell_type": "code",
   "execution_count": 60,
   "id": "zwoiQH0_uc3b",
   "metadata": {
    "colab": {
     "base_uri": "https://localhost:8080/"
    },
    "id": "zwoiQH0_uc3b",
    "outputId": "43ef9d79-143d-4bb9-cd58-fc28ff3589f9"
   },
   "outputs": [
    {
     "name": "stdout",
     "output_type": "stream",
     "text": [
      "0.43204138694325955\n"
     ]
    }
   ],
   "source": [
    "from scipy.stats import f_oneway\n",
    "test_statistic, p_value = f_oneway(df_new.loc[df_new['language_preferred']=='Spanish', 'time_spent_on_the_page'],\n",
    "                                   df_new.loc[df_new['language_preferred']=='English', 'time_spent_on_the_page'],\n",
    "                                   df_new.loc[df_new['language_preferred']=='French', 'time_spent_on_the_page']\n",
    "                                   )\n",
    "print(p_value)"
   ]
  },
  {
   "cell_type": "markdown",
   "id": "QR9ctU97uc3b",
   "metadata": {
    "id": "QR9ctU97uc3b"
   },
   "source": [
    "### Step 6: Compare the p-value with $\\alpha$"
   ]
  },
  {
   "cell_type": "code",
   "execution_count": 61,
   "id": "pu-F8dTKuc3b",
   "metadata": {
    "colab": {
     "base_uri": "https://localhost:8080/"
    },
    "id": "pu-F8dTKuc3b",
    "outputId": "8b057b54-e46c-4a62-9548-7795e6ee6e72"
   },
   "outputs": [
    {
     "name": "stdout",
     "output_type": "stream",
     "text": [
      "As the p-value 0.43204138694325955 is greater than the level of significance, we fail to reject the null hypothesis.\n"
     ]
    }
   ],
   "source": [
    "# print the conclusion based on p-value\n",
    "if p_value < 0.05:\n",
    "    print(f'As the p-value {p_value} is less than the level of significance, we reject the null hypothesis.')\n",
    "else:\n",
    "    print(f'As the p-value {p_value} is greater than the level of significance, we fail to reject the null hypothesis.')"
   ]
  },
  {
   "cell_type": "markdown",
   "id": "RMSkHheeuc3c",
   "metadata": {
    "id": "RMSkHheeuc3c"
   },
   "source": [
    "### Step 7:  Draw inference"
   ]
  },
  {
   "cell_type": "markdown",
   "id": "Wjm7hFYjuc3c",
   "metadata": {
    "id": "Wjm7hFYjuc3c"
   },
   "source": [
    "Since the p_value is >0.05, we fail to reject the null hypothesis. Hence, we have enough statistical evidence to say that Mean values of time spent on the new page is same for different languages preferred."
   ]
  },
  {
   "cell_type": "markdown",
   "id": "hkKeMjk4c9Uy",
   "metadata": {
    "id": "hkKeMjk4c9Uy"
   },
   "source": [
    "* Analysing using Multiple Comparison Test(Tukey HSD)\n",
    "\n",
    "Ho:μ1=μ2 and μ1=μ3 and μ2=μ3 \n",
    "\n",
    "against the alternative hypothesis\n",
    "\n",
    "Ha:μ1≠μ2 or μ1≠μ3 or μ2≠μ3\n",
    "\n",
    "where, μ1 - Mean value of time spent on the new page in Spanish, \n",
    "μ2 - Mean value of time spent on the new page in English, \n",
    "μ3 - Mean value of time spent on the new page in French"
   ]
  },
  {
   "cell_type": "code",
   "execution_count": 62,
   "id": "5cxwSPRDd8SU",
   "metadata": {
    "colab": {
     "base_uri": "https://localhost:8080/"
    },
    "id": "5cxwSPRDd8SU",
    "outputId": "a09ee240-71fa-484f-89af-e700901374a9"
   },
   "outputs": [
    {
     "name": "stdout",
     "output_type": "stream",
     "text": [
      " Multiple Comparison of Means - Tukey HSD, FWER=0.05 \n",
      "=====================================================\n",
      " group1  group2 meandiff p-adj   lower  upper  reject\n",
      "-----------------------------------------------------\n",
      "English  French  -0.4673 0.7259 -2.0035  1.069  False\n",
      "English Spanish  -0.8285  0.401 -2.3647 0.7078  False\n",
      " French Spanish  -0.3612  0.816  -1.874 1.1516  False\n",
      "-----------------------------------------------------\n"
     ]
    }
   ],
   "source": [
    "from statsmodels.stats.multicomp import pairwise_tukeyhsd\n",
    "\n",
    "m_comp = pairwise_tukeyhsd(endog=df_new['time_spent_on_the_page'], groups=df_new['language_preferred'], alpha=0.05)\n",
    "print(m_comp)"
   ]
  },
  {
   "cell_type": "markdown",
   "id": "GY5GBziDfCe2",
   "metadata": {
    "id": "GY5GBziDfCe2"
   },
   "source": [
    "As the p-values for comparing the time spent on new landing page for all pairs of languages are greater than the significance level, we fail to reject the null hypothesis of equality of all population means.\n"
   ]
  },
  {
   "cell_type": "markdown",
   "id": "3acbc947",
   "metadata": {
    "id": "3acbc947"
   },
   "source": [
    "## Conclusion and Business Recommendations"
   ]
  },
  {
   "cell_type": "markdown",
   "id": "VTugVsL4Ddz-",
   "metadata": {
    "id": "VTugVsL4Ddz-"
   },
   "source": [
    "*We analysed the data shared by E-News Express. We obtained some interesting results, which would help the company expand its business.*\n",
    "\n",
    "### Conclusions:\n",
    "* *Users spent an average of about 5.38 mins. on the online news portal.*\n",
    "* *Conversion rate increased with increased time spent on the page.*\n",
    "* *54% of the total users got converted to a subscriber of the news portal.*\n",
    "* *66% of users landing on the new page and 42% of users landing on the old page got converted to a subscriber.*\n",
    "* *Time spent on the new landing page is greater than the old landing page.*\n",
    "* *Mean values of time spent on the new page is same for different languages preferred.*\n",
    "* *Conversion rate is independent of the language preferred.*\n",
    "\n"
   ]
  },
  {
   "cell_type": "markdown",
   "id": "PWnsI0i_guWJ",
   "metadata": {
    "id": "PWnsI0i_guWJ"
   },
   "source": [
    "### Recommendations:\n",
    "\n",
    "* *Conversion rate increased with increased time spent on the page. This can be furthermore increased by including the best news articles on the landing page.*\n",
    "* *The new landing page has better chances of increasing the customer base. The company can focus on improving and slowly switching to the new page.*\n",
    "* *The company can come up with better UI design for the online platform to ensure easy access to news. It could be made visually appealing.*\n",
    "* *The online portal can also try to cater to differently-abled users, who can listen to the news on the portal.*\n",
    "* *Special promotional offers can be designed to attract visitors to the portal. One-time offers can be provided to the existing clients.*"
   ]
  },
  {
   "cell_type": "markdown",
   "id": "U0dAd4i0iCHo",
   "metadata": {
    "id": "U0dAd4i0iCHo"
   },
   "source": [
    "___"
   ]
  }
 ],
 "metadata": {
  "colab": {
   "collapsed_sections": [
    "a6a3d218",
    "6970dd99",
    "9d75cfa2",
    "68f3b2c9",
    "fad2de2f",
    "27906576",
    "e5fdf0c8",
    "56b3dafd",
    "c7ee4907",
    "3f58c9a7",
    "5fed2eac",
    "f5c5258d",
    "359b12f8",
    "d9affc84",
    "353e9d24",
    "d49bfa2d",
    "8d585a90",
    "3acbc947"
   ],
   "name": "ENews_Express_Learner_Notebook%5BFull_Code_Version%5D.ipynb",
   "provenance": []
  },
  "kernelspec": {
   "display_name": "Python 3 (ipykernel)",
   "language": "python",
   "name": "python3"
  },
  "language_info": {
   "codemirror_mode": {
    "name": "ipython",
    "version": 3
   },
   "file_extension": ".py",
   "mimetype": "text/x-python",
   "name": "python",
   "nbconvert_exporter": "python",
   "pygments_lexer": "ipython3",
   "version": "3.9.12"
  }
 },
 "nbformat": 4,
 "nbformat_minor": 5
}
